{
 "cells": [
  {
   "cell_type": "markdown",
   "id": "f870e913-2cbb-46d1-95f6-58b66eba32de",
   "metadata": {},
   "source": [
    "### Data Analysis template"
   ]
  },
  {
   "cell_type": "markdown",
   "id": "5bf808a1-0576-4797-86d9-3650130235b1",
   "metadata": {},
   "source": [
    "#### Goal: Analyse time series data for number of people with a tertiary education in unisc adjacent areas\n",
    "\n",
    "Sunshine coast SA4 - 316\n",
    "MB North SA4 - 313\n",
    "MB South SA4 - 314\n",
    "Wide Bay SA4 - 319"
   ]
  },
  {
   "cell_type": "code",
   "execution_count": 1,
   "id": "e634547f-906a-4683-819a-37713999175e",
   "metadata": {
    "vscode": {
     "languageId": "r"
    }
   },
   "outputs": [],
   "source": [
    "c_year <- \"2021\"\n",
    "c_pack <- \"TSP\"\n",
    "c_geo <- \"SA4\"\n",
    "c_area <- \"QLD\"\n",
    "\n",
    "directory <- paste(\"Census\", c_year, c_pack, c_geo, c_area, sep = \"_\")"
   ]
  },
  {
   "cell_type": "code",
   "execution_count": 2,
   "id": "1ccbc540-22a0-495c-9cf9-b5bd196c9154",
   "metadata": {
    "vscode": {
     "languageId": "r"
    }
   },
   "outputs": [],
   "source": [
    "pkgLoad <- function( packages = \"required\" ) {\n",
    "\n",
    "    if( length( packages ) == 1L && packages == \"required\" ) {\n",
    "        packages <- c( \"readxl\", \"tidyverse\", \"openssl\", \"dplyr\", \"data.table\",\n",
    "                       \"here\", \"httr\",\"purrr\"\n",
    "        )\n",
    "    }\n",
    "\n",
    "    packagecheck <- match( packages, utils::installed.packages()[,1] )\n",
    "\n",
    "    packagestoinstall <- packages[ is.na( packagecheck ) ]\n",
    "\n",
    "    if( length( packagestoinstall ) > 0L ) {\n",
    "        utils::install.packages( packagestoinstall,\n",
    "                             repos = \"http://cran.csiro.au\"\n",
    "        )\n",
    "    } else {\n",
    "        print( \"All requested packages already installed\" )\n",
    "    }\n",
    "\n",
    "    for( package in packages ) {\n",
    "        suppressPackageStartupMessages(\n",
    "            library( package, character.only = TRUE, quietly = TRUE )\n",
    "        )\n",
    "    }\n",
    "\n",
    "}"
   ]
  },
  {
   "cell_type": "code",
   "execution_count": 3,
   "id": "95d93d91-9193-41c4-b2c7-8f3bbb25caad",
   "metadata": {
    "vscode": {
     "languageId": "r"
    }
   },
   "outputs": [],
   "source": [
    "unzip_file <- function(zip_path, dest_path){\n",
    "  unzip(zip_path, exdir = dest_path)\n",
    "}"
   ]
  },
  {
   "cell_type": "code",
   "execution_count": 4,
   "id": "7f4e01b3-7ea5-4b37-b559-da88eb6959db",
   "metadata": {
    "vscode": {
     "languageId": "r"
    }
   },
   "outputs": [],
   "source": [
    "download_file <- function(url, dest_path, extract_path, file_name){\n",
    "  # Ensure the destination directory exists\n",
    "  if (!dir.exists(dest_path)) {\n",
    "    dir.create(dest_path, recursive = TRUE)\n",
    "  }\n",
    "  \n",
    "  full_dest_path <- file.path(dest_path, file_name)\n",
    "  # Adjust extract_path to not append file_name directly\n",
    "  GET(url, write_disk(full_dest_path, overwrite = TRUE))\n",
    "  \n",
    "  if (grepl(\".zip$\", full_dest_path)){\n",
    "    unzip_file(full_dest_path, extract_path)\n",
    "    file.remove(full_dest_path)\n",
    "  }\n",
    "}"
   ]
  },
  {
   "cell_type": "code",
   "execution_count": 5,
   "id": "5d11c9de-c8c9-4dae-b2b9-ce5afe130779",
   "metadata": {
    "vscode": {
     "languageId": "r"
    }
   },
   "outputs": [],
   "source": [
    "download_census_data <- function(c_year, c_pack, c_geo, c_area, dest_path, extract_path){\n",
    "  url <- paste0(\"https://www.abs.gov.au/census/find-census-data/datapacks/download/\", c_year, \"_\", c_pack, \"_\", c_geo, \"_for_\", c_area, \"_short-header.zip\")\n",
    "  file_name <- paste0(c_year, \"_\", c_pack, \"_\", c_geo, \"_for_\", c_area, \"_short-header.zip\")\n",
    "  download_file(url, dest_path, extract_path, file_name)\n",
    "  files <- list.files(extract_path, full.names = TRUE) # Get full paths\n",
    "  print(\"Success\")\n",
    "}"
   ]
  },
  {
   "cell_type": "code",
   "execution_count": 6,
   "id": "26ea64cb-038b-4c65-8487-b7940c3200f2",
   "metadata": {
    "vscode": {
     "languageId": "r"
    }
   },
   "outputs": [],
   "source": [
    "#read from excel function\n",
    "url_from_excel <- function(excel_path, dest_path, extract_path){\n",
    "  urls_df <- read_excel(excel_path, skip = 1, col_names = c(\"url\", \"file_name\"))\n",
    "  for (i in 1:nrow(urls_df)) {\n",
    "    download_file(urls_df$url[i], dest_path, extract_path, urls_df$file_name[i])\n",
    "  }\n",
    "}"
   ]
  },
  {
   "cell_type": "code",
   "execution_count": 7,
   "id": "6a1a40cf-cb24-453b-9413-6a38d7d9a096",
   "metadata": {
    "vscode": {
     "languageId": "r"
    }
   },
   "outputs": [],
   "source": [
    "retrieve_table <- function(search_value, table_index, datafiles) {\n",
    "    # Search for the index for the dynamic value\n",
    "    index <- grep(search_value, table_index$V1, fixed = TRUE, ignore.case = FALSE)\n",
    "    file_paths <- file.path(datafiles, table_index$V1[index])\n",
    "\n",
    "    # Read and combine all CSVs that match\n",
    "    combined_df <- map_dfr(file_paths, read.csv)\n",
    "    \n",
    "    \n",
    "    # Return the combined dataframe\n",
    "    return(combined_df)\n",
    "}"
   ]
  },
  {
   "cell_type": "code",
   "execution_count": 8,
   "id": "0efc07c3-c39e-423f-92d0-03d01dd5d026",
   "metadata": {
    "vscode": {
     "languageId": "r"
    }
   },
   "outputs": [
    {
     "name": "stdout",
     "output_type": "stream",
     "text": [
      "[1] \"All requested packages already installed\"\n"
     ]
    }
   ],
   "source": [
    "pkgLoad()"
   ]
  },
  {
   "cell_type": "code",
   "execution_count": 9,
   "id": "686f16f3-41bc-4591-b635-9cb3e6bfb428",
   "metadata": {
    "vscode": {
     "languageId": "r"
    }
   },
   "outputs": [
    {
     "data": {
      "text/html": [
       "<ol>\n",
       "\t<li>NULL</li>\n",
       "\t<li>NULL</li>\n",
       "\t<li>NULL</li>\n",
       "</ol>\n"
      ],
      "text/latex": [
       "\\begin{enumerate}\n",
       "\\item NULL\n",
       "\\item NULL\n",
       "\\item NULL\n",
       "\\end{enumerate}\n"
      ],
      "text/markdown": [
       "1. NULL\n",
       "2. NULL\n",
       "3. NULL\n",
       "\n",
       "\n"
      ],
      "text/plain": [
       "[[1]]\n",
       "NULL\n",
       "\n",
       "[[2]]\n",
       "NULL\n",
       "\n",
       "[[3]]\n",
       "NULL\n"
      ]
     },
     "metadata": {},
     "output_type": "display_data"
    },
    {
     "name": "stdout",
     "output_type": "stream",
     "text": [
      "[1] \"Success\"\n"
     ]
    },
    {
     "name": "stderr",
     "output_type": "stream",
     "text": [
      "\u001b[1m\u001b[22mNew names:\n",
      "\u001b[36m•\u001b[39m `` -> `...2`\n",
      "\u001b[36m•\u001b[39m `` -> `...3`\n",
      "\u001b[1m\u001b[22mNew names:\n",
      "\u001b[36m•\u001b[39m `` -> `...2`\n",
      "\u001b[36m•\u001b[39m `` -> `...3`\n",
      "\u001b[36m•\u001b[39m `` -> `...4`\n",
      "\u001b[36m•\u001b[39m `` -> `...5`\n",
      "\u001b[36m•\u001b[39m `` -> `...6`\n"
     ]
    },
    {
     "name": "stdout",
     "output_type": "stream",
     "text": [
      "[1] \"Processing data frame: 2021_ASGS_MAIN_Structures\"\n",
      "[1] \"Processing data frame: 2021_ASGS_GCCSA_Structure\"\n",
      "[1] \"Processing data frame: 2021_ASGS_Indigenous_Structures\"\n",
      "[1] \"Processing data frame: 2021_ASGS_SOS_UCL_Structures\"\n",
      "[1] \"Processing data frame: 2021_ASGS_SUA_Structures\"\n",
      "[1] \"Processing data frame: 2021_ASGS_Non_ABS_Structures\"\n"
     ]
    }
   ],
   "source": [
    "base_path <- here(directory)\n",
    "dest_path <- here(directory, \"Download\")\n",
    "extract_path <- here(directory, \"Input\")\n",
    "output_path <- here(directory, \"Output\")\n",
    "if (!dir.exists(base_path)) {\n",
    "  dir.create(output_path, recursive = TRUE)\n",
    "}\n",
    "# Create directories if they do not exist\n",
    "paths <- list(dest_path, extract_path, output_path)\n",
    "lapply(paths, function(path) {\n",
    "  if (!dir.exists(path)) {\n",
    "    dir.create(path, recursive = TRUE)\n",
    "  }\n",
    "})\n",
    "download_census_data(c_year, c_pack, c_geo, c_area, dest_path, extract_path)\n",
    "extract_path <- here(directory, \"Input\", \"Metadata\")\n",
    "files <- list.files(extract_path, full.names = TRUE) # Get full paths\n",
    "geog_def_source <- files[grepl(\"geog\", files)]\n",
    "data_def_source <- files[grepl(\"DataPack\", files)]\n",
    "\n",
    "#read each table in the excel file and create dataframe based on tablename\n",
    "read_excel_sheets <- function(file) {\n",
    "  tables <- excel_sheets(file)\n",
    "  dataframes <- list()\n",
    "  for (table in tables) {\n",
    "    dataframes[[table]] <- read_excel(file, sheet = table)\n",
    "  }\n",
    "  return(dataframes)\n",
    "}\n",
    "setColumns <- function(df) {\n",
    "  for (col in 1:ncol(df)) {\n",
    "    # Find the first non-NA value in the column\n",
    "    firstNonNAIndex <- which(!is.na(df[[col]]))[1]\n",
    "    \n",
    "    # Check if there is a non-NA value\n",
    "    if (!is.na(firstNonNAIndex)) {\n",
    "      # Set the column name to the first non-NA value\n",
    "      colnames(df)[col] <- as.character(df[firstNonNAIndex, col])\n",
    "    }\n",
    "  }\n",
    "  return(df)\n",
    "}\n",
    "\n",
    "geog_def <- read_excel_sheets(geog_def_source)\n",
    "data_def <- read_excel_sheets(data_def_source)\n",
    "\n",
    "split_data_frames <- function(df_list) {\n",
    "  split_dfs <- list()\n",
    "  \n",
    "  for (name in names(df_list)) {\n",
    "    df <- df_list[[name]]\n",
    "    print(paste(\"Processing data frame:\", name))\n",
    "    \n",
    "    # Ensure df is a data.table\n",
    "    setDT(df)\n",
    "    \n",
    "    # Split the data frame by the first column (assuming it's the category column)\n",
    "    split_list <- split(df, df[[1]])\n",
    "    \n",
    "    for (category_name in names(split_list)) {\n",
    "      cat_df <- split_list[[category_name]]\n",
    "      \n",
    "      # Check if this category already exists in split_dfs\n",
    "      if (category_name %in% names(split_dfs)) {\n",
    "        # If so, Combine existing and new data frames, then remove duplicates\n",
    "        combined_df <- rbind(split_dfs[[category_name]], cat_df)\n",
    "        # Ensure the combined data frame is unique\n",
    "        unique_combined_df <- unique(combined_df)\n",
    "        split_dfs[[category_name]] <- unique_combined_df\n",
    "      } else {\n",
    "        #if this is first occurence of category, add it to the list\n",
    "        split_dfs[[category_name]] <- cat_df\n",
    "      }\n",
    "    }\n",
    "  }\n",
    "  \n",
    "  return(split_dfs)\n",
    "}\n",
    "\n",
    "split_list_of_dfs <- split_data_frames(geog_def)\n",
    "\n",
    "#process data definitions \n",
    "data_def_process <- function(data_def) {\n",
    "  #process table 1\n",
    "  data_def[[1]] <- data_def[[1]][!is.na(data_def[[1]][,2]),]\n",
    "  data_def[[1]] <- setColumns(data_def[[1]])\n",
    "  data_def[[1]] <- data_def[[1]][-1,]\n",
    "  #process table 2\n",
    "  data_def[[2]] <- data_def[[2]][!is.na(data_def[[2]][,2]),]\n",
    "  data_def[[2]] <- setColumns(data_def[[2]])\n",
    "  data_def[[2]] <- data_def[[2]][-1,]\n",
    "  return(data_def)\n",
    "}\n",
    "data_def <- data_def_process(data_def)\n",
    "\n",
    "#export data def as two seperate csvs\n",
    "\n",
    "output_path <- here(directory, \"Output\", \"Index\") \n",
    "if (!dir.exists(output_path)) {\n",
    "  dir.create(output_path, recursive = TRUE)\n",
    "}\n",
    "\n",
    "write.csv(data_def[1], here(output_path, \"data_def_tables.csv\"), row.names = FALSE)\n",
    "write.csv(data_def[2], here(output_path, \"data_def_columns.csv\"), row.names = FALSE)\n",
    "meta_data <-  here(directory, \"Output\", \"Index\")\n",
    "output_path <- here(directory, \"Output\", \"ASGS\") \n",
    "if (!dir.exists(output_path)) {\n",
    "  dir.create(output_path, recursive = TRUE)\n",
    "}\n",
    "for (name in names(split_list_of_dfs)) {\n",
    "  df <- split_list_of_dfs[[name]]\n",
    "  output_path\n",
    "  write.csv(df, file.path(output_path, paste0(name, \".csv\")), row.names = FALSE)\n",
    "}\n",
    "#read each csv and create a column called AGSS_Key\n",
    "files <- list.files(output_path, pattern = \"\\\\.csv$\", full.names = TRUE)\n",
    "for (file in files) {\n",
    "  df <- fread(file)\n",
    "  df$AGSS_Key <- file\n",
    "  #add value to the AGSS_key which is the AGSS_Code_2021 \n",
    "  df$AGSS_Key <- openssl::md5(as.character(df$AGSS_Code_2021))\n",
    "  write.csv(df, file, row.names = FALSE)\n",
    "}"
   ]
  },
  {
   "cell_type": "code",
   "execution_count": 10,
   "id": "83d2458a-5afc-4b40-8641-5d6c69e118b8",
   "metadata": {
    "vscode": {
     "languageId": "r"
    }
   },
   "outputs": [
    {
     "data": {
      "text/html": [
       "'C:/Users/joshu/Census_2021_TSP_SA4_QLD/Output/ASGS'"
      ],
      "text/latex": [
       "'C:/Users/joshu/Census\\_2021\\_TSP\\_SA4\\_QLD/Output/ASGS'"
      ],
      "text/markdown": [
       "'C:/Users/joshu/Census_2021_TSP_SA4_QLD/Output/ASGS'"
      ],
      "text/plain": [
       "[1] \"C:/Users/joshu/Census_2021_TSP_SA4_QLD/Output/ASGS\""
      ]
     },
     "metadata": {},
     "output_type": "display_data"
    }
   ],
   "source": [
    "output_path\n",
    "dest_path <- here(directory, \"Input\")\n",
    "extract_path <- here(directory, \"Output\")"
   ]
  },
  {
   "cell_type": "code",
   "execution_count": 11,
   "id": "cdb001c2-c2cb-4d21-9492-cb07d026c4e2",
   "metadata": {
    "vscode": {
     "languageId": "r"
    }
   },
   "outputs": [
    {
     "name": "stdout",
     "output_type": "stream",
     "text": [
      "[1] \"C:/Users/joshu/Census_2021_TSP_SA4_QLD/Input/2021 Census TSP Statistical Area 4 for QLD\"\n",
      "[2] \"C:/Users/joshu/Census_2021_TSP_SA4_QLD/Input/Metadata\"                                  \n",
      "[3] \"C:/Users/joshu/Census_2021_TSP_SA4_QLD/Input/Readme\"                                    \n"
     ]
    }
   ],
   "source": [
    "files <- list.files(dest_path, full.names = TRUE)\n",
    "print(files)"
   ]
  },
  {
   "cell_type": "code",
   "execution_count": 12,
   "id": "ead27894-f9e7-4274-8caf-7bbc8c8d1eb1",
   "metadata": {
    "vscode": {
     "languageId": "r"
    }
   },
   "outputs": [
    {
     "data": {
      "text/html": [
       "'C:/Users/joshu/Census_2021_TSP_SA4_QLD/Input'"
      ],
      "text/latex": [
       "'C:/Users/joshu/Census\\_2021\\_TSP\\_SA4\\_QLD/Input'"
      ],
      "text/markdown": [
       "'C:/Users/joshu/Census_2021_TSP_SA4_QLD/Input'"
      ],
      "text/plain": [
       "[1] \"C:/Users/joshu/Census_2021_TSP_SA4_QLD/Input\""
      ]
     },
     "metadata": {},
     "output_type": "display_data"
    },
    {
     "data": {
      "text/html": [
       "'C:/Users/joshu/Census_2021_TSP_SA4_QLD/Output'"
      ],
      "text/latex": [
       "'C:/Users/joshu/Census\\_2021\\_TSP\\_SA4\\_QLD/Output'"
      ],
      "text/markdown": [
       "'C:/Users/joshu/Census_2021_TSP_SA4_QLD/Output'"
      ],
      "text/plain": [
       "[1] \"C:/Users/joshu/Census_2021_TSP_SA4_QLD/Output\""
      ]
     },
     "metadata": {},
     "output_type": "display_data"
    }
   ],
   "source": [
    "dest_path\n",
    "extract_path"
   ]
  },
  {
   "cell_type": "code",
   "execution_count": 13,
   "id": "ae304550-531b-4a29-860a-6197981ac135",
   "metadata": {
    "vscode": {
     "languageId": "r"
    }
   },
   "outputs": [],
   "source": [
    "datafiles <- files[1]"
   ]
  },
  {
   "cell_type": "code",
   "execution_count": 14,
   "id": "0f8278a8-7ebb-4413-b3fa-1437f0e10876",
   "metadata": {
    "scrolled": true,
    "vscode": {
     "languageId": "r"
    }
   },
   "outputs": [
    {
     "name": "stdout",
     "output_type": "stream",
     "text": [
      "                              V1\n",
      "                          <char>\n",
      "  1:  2021Census_T01_QLD_SA4.csv\n",
      "  2:  2021Census_T02_QLD_SA4.csv\n",
      "  3: 2021Census_T03A_QLD_SA4.csv\n",
      "  4: 2021Census_T03B_QLD_SA4.csv\n",
      "  5: 2021Census_T03C_QLD_SA4.csv\n",
      " ---                            \n",
      " 97: 2021Census_T33F_QLD_SA4.csv\n",
      " 98: 2021Census_T33G_QLD_SA4.csv\n",
      " 99: 2021Census_T33H_QLD_SA4.csv\n",
      "100:  2021Census_T34_QLD_SA4.csv\n",
      "101:  2021Census_T35_QLD_SA4.csv\n"
     ]
    }
   ],
   "source": [
    "table_index <- as.data.table((list.files(datafiles)))\n",
    "table_verbose <- read.csv(file.path(meta_data, \"data_def_tables.csv\"))\n",
    "print(table_index)"
   ]
  },
  {
   "cell_type": "code",
   "execution_count": 15,
   "id": "561ed6e0-d933-4713-a71c-54b571117fce",
   "metadata": {
    "vscode": {
     "languageId": "r"
    }
   },
   "outputs": [
    {
     "data": {
      "text/html": [
       "'C:/Users/joshu/Census_2021_TSP_SA4_QLD/Output/Index'"
      ],
      "text/latex": [
       "'C:/Users/joshu/Census\\_2021\\_TSP\\_SA4\\_QLD/Output/Index'"
      ],
      "text/markdown": [
       "'C:/Users/joshu/Census_2021_TSP_SA4_QLD/Output/Index'"
      ],
      "text/plain": [
       "[1] \"C:/Users/joshu/Census_2021_TSP_SA4_QLD/Output/Index\""
      ]
     },
     "metadata": {},
     "output_type": "display_data"
    }
   ],
   "source": [
    "meta_data"
   ]
  },
  {
   "cell_type": "code",
   "execution_count": 16,
   "id": "1df164eb-c194-42b8-962d-317b6adc9549",
   "metadata": {
    "vscode": {
     "languageId": "r"
    }
   },
   "outputs": [
    {
     "data": {
      "text/html": [
       "<table class=\"dataframe\">\n",
       "<caption>A data.frame: 35 × 3</caption>\n",
       "<thead>\n",
       "\t<tr><th scope=col>Table.number..name..population.Table.number</th><th scope=col>Table.number..name..population.Table.name</th><th scope=col>Table.number..name..population.Table.population</th></tr>\n",
       "\t<tr><th scope=col>&lt;chr&gt;</th><th scope=col>&lt;chr&gt;</th><th scope=col>&lt;chr&gt;</th></tr>\n",
       "</thead>\n",
       "<tbody>\n",
       "\t<tr><td>T01</td><td>Selected Person Characteristics by sex                                                               </td><td>Persons                                                                         </td></tr>\n",
       "\t<tr><td>T02</td><td>Selected Medians and Averages                                                                        </td><td>NA                                                                              </td></tr>\n",
       "\t<tr><td>T03</td><td>Age by Sex                                                                                           </td><td>Persons                                                                         </td></tr>\n",
       "\t<tr><td>T04</td><td>Registered Marital Status by Age by Sex                                                              </td><td>Persons aged 15 years and over                                                  </td></tr>\n",
       "\t<tr><td>T05</td><td>Social Marital Status by Age by Sex                                                                  </td><td>Persons aged 15 years and over                                                  </td></tr>\n",
       "\t<tr><td>T06</td><td>Indigenous Status by Age by Sex                                                                      </td><td>Persons (excludes overseas visitors)                                            </td></tr>\n",
       "\t<tr><td>T07</td><td>Number of Children Ever Born by Age of Parent                                                        </td><td>Females aged 15 years and over (excludes overseas visitors)                     </td></tr>\n",
       "\t<tr><td>T08</td><td>Country of Birth of Person by Sex                                                                    </td><td>Persons                                                                         </td></tr>\n",
       "\t<tr><td>T09</td><td>Ancestry by country of birth of parents                                                              </td><td>Persons (excludes overseas visitors)                                            </td></tr>\n",
       "\t<tr><td>T10</td><td>Language used at home by sex                                                                         </td><td>Persons                                                                         </td></tr>\n",
       "\t<tr><td>T11</td><td>Proficiency in Spoken English by Age                                                                 </td><td>Persons (excludes overseas visitors)                                            </td></tr>\n",
       "\t<tr><td>T12</td><td>Religious Affiliation by Age                                                                         </td><td>Persons                                                                         </td></tr>\n",
       "\t<tr><td>T13</td><td>Type of Educational Institution Attending (Full-Time/Part-Time Student Status by Age) by Sex         </td><td>Persons attending and educational institution                                   </td></tr>\n",
       "\t<tr><td>T14</td><td>Dwelling Structure by Household Composition and Family Composition                                   </td><td>Occupied private dwellings                                                      </td></tr>\n",
       "\t<tr><td>T15</td><td>Dwelling Structure by Number of Persons Usually Resident                                             </td><td>Occupied private dwellings                                                      </td></tr>\n",
       "\t<tr><td>T16</td><td>Dwelling Structure and Number of Bedrooms by Number of Persons Usually Resident for Family Households</td><td>Occupied private dwellings containing family households                         </td></tr>\n",
       "\t<tr><td>T17</td><td>Dwelling Structure and Number of Bedrooms by Number of Persons Usually Resident for Group Households </td><td>Occupied private dwellings containing group households                          </td></tr>\n",
       "\t<tr><td>T18</td><td>Tenure and Landlord Type by Dwelling Structure                                                       </td><td>Occupied private dwellings                                                      </td></tr>\n",
       "\t<tr><td>T19</td><td>Rent (weekly) by Landlord Type                                                                       </td><td>Occupied private dwellings being rented                                         </td></tr>\n",
       "\t<tr><td>T20</td><td>Rent (weekly) by Family Composition for Couple Families                                              </td><td>Couple families in family households                                            </td></tr>\n",
       "\t<tr><td>T21</td><td>Rent (weekly) by Family Composition for One Parent Families                                          </td><td>One parent families in family households                                        </td></tr>\n",
       "\t<tr><td>T22</td><td>Total Family Income (weekly) by Number of Children for Couple Families                               </td><td>Couple families with children                                                   </td></tr>\n",
       "\t<tr><td>T23</td><td>Total Family Income (weekly) by Number of Children for One Parent Families                           </td><td>One parent families with children                                               </td></tr>\n",
       "\t<tr><td>T24</td><td>Total Household Income (weekly) by Rent (weekly)                                                     </td><td>Occupied private dwellings being rented                                         </td></tr>\n",
       "\t<tr><td>T25</td><td>Family Composition by Mortgage Repayment (monthly)                                                   </td><td>Families in family households                                                   </td></tr>\n",
       "\t<tr><td>T26</td><td>Couple families by Income Comparison for Parents/Partners                                            </td><td>Couple families                                                                 </td></tr>\n",
       "\t<tr><td>T27</td><td>Family Composition and Social Marital Status by Number of Dependent Children                         </td><td>Families with dependent children                                                </td></tr>\n",
       "\t<tr><td>T28</td><td>Core Activity Need for Assistance by Age by Sex                                                      </td><td>Persons                                                                         </td></tr>\n",
       "\t<tr><td>T29</td><td>Selected Labour Force, Education and Migration Characteristics                                       </td><td>Persons                                                                         </td></tr>\n",
       "\t<tr><td>T30</td><td>Family Composition and Labour Force Status of Parent(s)/Partners by Total Family Income (weekly)     </td><td>Couple families and one parent families in family households                    </td></tr>\n",
       "\t<tr><td>T31</td><td>Highest Non-School Qualification: Level of Education by Age by Sex                                   </td><td>Persons aged 15 years and over with a qualification (excludes overseas visitors)</td></tr>\n",
       "\t<tr><td>T32</td><td>Highest Non-School Qualification: Field of Study by Age by Sex                                       </td><td>Persons aged 15 years and over with a qualification (excludes overseas visitors)</td></tr>\n",
       "\t<tr><td>T33</td><td>Labour Force Status by Age by Sex                                                                    </td><td>Persons aged 15 years and over (excludes overseas visitors)                     </td></tr>\n",
       "\t<tr><td>T34</td><td>Industry of Employment by Sex                                                                        </td><td>Persons aged 15 years and over (excludes overseas visitors)                     </td></tr>\n",
       "\t<tr><td>T35</td><td>Occupation by Sex                                                                                    </td><td>Persons aged 15 years and over (excludes overseas visitors)                     </td></tr>\n",
       "</tbody>\n",
       "</table>\n"
      ],
      "text/latex": [
       "A data.frame: 35 × 3\n",
       "\\begin{tabular}{lll}\n",
       " Table.number..name..population.Table.number & Table.number..name..population.Table.name & Table.number..name..population.Table.population\\\\\n",
       " <chr> & <chr> & <chr>\\\\\n",
       "\\hline\n",
       "\t T01 & Selected Person Characteristics by sex                                                                & Persons                                                                         \\\\\n",
       "\t T02 & Selected Medians and Averages                                                                         & NA                                                                              \\\\\n",
       "\t T03 & Age by Sex                                                                                            & Persons                                                                         \\\\\n",
       "\t T04 & Registered Marital Status by Age by Sex                                                               & Persons aged 15 years and over                                                  \\\\\n",
       "\t T05 & Social Marital Status by Age by Sex                                                                   & Persons aged 15 years and over                                                  \\\\\n",
       "\t T06 & Indigenous Status by Age by Sex                                                                       & Persons (excludes overseas visitors)                                            \\\\\n",
       "\t T07 & Number of Children Ever Born by Age of Parent                                                         & Females aged 15 years and over (excludes overseas visitors)                     \\\\\n",
       "\t T08 & Country of Birth of Person by Sex                                                                     & Persons                                                                         \\\\\n",
       "\t T09 & Ancestry by country of birth of parents                                                               & Persons (excludes overseas visitors)                                            \\\\\n",
       "\t T10 & Language used at home by sex                                                                          & Persons                                                                         \\\\\n",
       "\t T11 & Proficiency in Spoken English by Age                                                                  & Persons (excludes overseas visitors)                                            \\\\\n",
       "\t T12 & Religious Affiliation by Age                                                                          & Persons                                                                         \\\\\n",
       "\t T13 & Type of Educational Institution Attending (Full-Time/Part-Time Student Status by Age) by Sex          & Persons attending and educational institution                                   \\\\\n",
       "\t T14 & Dwelling Structure by Household Composition and Family Composition                                    & Occupied private dwellings                                                      \\\\\n",
       "\t T15 & Dwelling Structure by Number of Persons Usually Resident                                              & Occupied private dwellings                                                      \\\\\n",
       "\t T16 & Dwelling Structure and Number of Bedrooms by Number of Persons Usually Resident for Family Households & Occupied private dwellings containing family households                         \\\\\n",
       "\t T17 & Dwelling Structure and Number of Bedrooms by Number of Persons Usually Resident for Group Households  & Occupied private dwellings containing group households                          \\\\\n",
       "\t T18 & Tenure and Landlord Type by Dwelling Structure                                                        & Occupied private dwellings                                                      \\\\\n",
       "\t T19 & Rent (weekly) by Landlord Type                                                                        & Occupied private dwellings being rented                                         \\\\\n",
       "\t T20 & Rent (weekly) by Family Composition for Couple Families                                               & Couple families in family households                                            \\\\\n",
       "\t T21 & Rent (weekly) by Family Composition for One Parent Families                                           & One parent families in family households                                        \\\\\n",
       "\t T22 & Total Family Income (weekly) by Number of Children for Couple Families                                & Couple families with children                                                   \\\\\n",
       "\t T23 & Total Family Income (weekly) by Number of Children for One Parent Families                            & One parent families with children                                               \\\\\n",
       "\t T24 & Total Household Income (weekly) by Rent (weekly)                                                      & Occupied private dwellings being rented                                         \\\\\n",
       "\t T25 & Family Composition by Mortgage Repayment (monthly)                                                    & Families in family households                                                   \\\\\n",
       "\t T26 & Couple families by Income Comparison for Parents/Partners                                             & Couple families                                                                 \\\\\n",
       "\t T27 & Family Composition and Social Marital Status by Number of Dependent Children                          & Families with dependent children                                                \\\\\n",
       "\t T28 & Core Activity Need for Assistance by Age by Sex                                                       & Persons                                                                         \\\\\n",
       "\t T29 & Selected Labour Force, Education and Migration Characteristics                                        & Persons                                                                         \\\\\n",
       "\t T30 & Family Composition and Labour Force Status of Parent(s)/Partners by Total Family Income (weekly)      & Couple families and one parent families in family households                    \\\\\n",
       "\t T31 & Highest Non-School Qualification: Level of Education by Age by Sex                                    & Persons aged 15 years and over with a qualification (excludes overseas visitors)\\\\\n",
       "\t T32 & Highest Non-School Qualification: Field of Study by Age by Sex                                        & Persons aged 15 years and over with a qualification (excludes overseas visitors)\\\\\n",
       "\t T33 & Labour Force Status by Age by Sex                                                                     & Persons aged 15 years and over (excludes overseas visitors)                     \\\\\n",
       "\t T34 & Industry of Employment by Sex                                                                         & Persons aged 15 years and over (excludes overseas visitors)                     \\\\\n",
       "\t T35 & Occupation by Sex                                                                                     & Persons aged 15 years and over (excludes overseas visitors)                     \\\\\n",
       "\\end{tabular}\n"
      ],
      "text/markdown": [
       "\n",
       "A data.frame: 35 × 3\n",
       "\n",
       "| Table.number..name..population.Table.number &lt;chr&gt; | Table.number..name..population.Table.name &lt;chr&gt; | Table.number..name..population.Table.population &lt;chr&gt; |\n",
       "|---|---|---|\n",
       "| T01 | Selected Person Characteristics by sex                                                                | Persons                                                                          |\n",
       "| T02 | Selected Medians and Averages                                                                         | NA                                                                               |\n",
       "| T03 | Age by Sex                                                                                            | Persons                                                                          |\n",
       "| T04 | Registered Marital Status by Age by Sex                                                               | Persons aged 15 years and over                                                   |\n",
       "| T05 | Social Marital Status by Age by Sex                                                                   | Persons aged 15 years and over                                                   |\n",
       "| T06 | Indigenous Status by Age by Sex                                                                       | Persons (excludes overseas visitors)                                             |\n",
       "| T07 | Number of Children Ever Born by Age of Parent                                                         | Females aged 15 years and over (excludes overseas visitors)                      |\n",
       "| T08 | Country of Birth of Person by Sex                                                                     | Persons                                                                          |\n",
       "| T09 | Ancestry by country of birth of parents                                                               | Persons (excludes overseas visitors)                                             |\n",
       "| T10 | Language used at home by sex                                                                          | Persons                                                                          |\n",
       "| T11 | Proficiency in Spoken English by Age                                                                  | Persons (excludes overseas visitors)                                             |\n",
       "| T12 | Religious Affiliation by Age                                                                          | Persons                                                                          |\n",
       "| T13 | Type of Educational Institution Attending (Full-Time/Part-Time Student Status by Age) by Sex          | Persons attending and educational institution                                    |\n",
       "| T14 | Dwelling Structure by Household Composition and Family Composition                                    | Occupied private dwellings                                                       |\n",
       "| T15 | Dwelling Structure by Number of Persons Usually Resident                                              | Occupied private dwellings                                                       |\n",
       "| T16 | Dwelling Structure and Number of Bedrooms by Number of Persons Usually Resident for Family Households | Occupied private dwellings containing family households                          |\n",
       "| T17 | Dwelling Structure and Number of Bedrooms by Number of Persons Usually Resident for Group Households  | Occupied private dwellings containing group households                           |\n",
       "| T18 | Tenure and Landlord Type by Dwelling Structure                                                        | Occupied private dwellings                                                       |\n",
       "| T19 | Rent (weekly) by Landlord Type                                                                        | Occupied private dwellings being rented                                          |\n",
       "| T20 | Rent (weekly) by Family Composition for Couple Families                                               | Couple families in family households                                             |\n",
       "| T21 | Rent (weekly) by Family Composition for One Parent Families                                           | One parent families in family households                                         |\n",
       "| T22 | Total Family Income (weekly) by Number of Children for Couple Families                                | Couple families with children                                                    |\n",
       "| T23 | Total Family Income (weekly) by Number of Children for One Parent Families                            | One parent families with children                                                |\n",
       "| T24 | Total Household Income (weekly) by Rent (weekly)                                                      | Occupied private dwellings being rented                                          |\n",
       "| T25 | Family Composition by Mortgage Repayment (monthly)                                                    | Families in family households                                                    |\n",
       "| T26 | Couple families by Income Comparison for Parents/Partners                                             | Couple families                                                                  |\n",
       "| T27 | Family Composition and Social Marital Status by Number of Dependent Children                          | Families with dependent children                                                 |\n",
       "| T28 | Core Activity Need for Assistance by Age by Sex                                                       | Persons                                                                          |\n",
       "| T29 | Selected Labour Force, Education and Migration Characteristics                                        | Persons                                                                          |\n",
       "| T30 | Family Composition and Labour Force Status of Parent(s)/Partners by Total Family Income (weekly)      | Couple families and one parent families in family households                     |\n",
       "| T31 | Highest Non-School Qualification: Level of Education by Age by Sex                                    | Persons aged 15 years and over with a qualification (excludes overseas visitors) |\n",
       "| T32 | Highest Non-School Qualification: Field of Study by Age by Sex                                        | Persons aged 15 years and over with a qualification (excludes overseas visitors) |\n",
       "| T33 | Labour Force Status by Age by Sex                                                                     | Persons aged 15 years and over (excludes overseas visitors)                      |\n",
       "| T34 | Industry of Employment by Sex                                                                         | Persons aged 15 years and over (excludes overseas visitors)                      |\n",
       "| T35 | Occupation by Sex                                                                                     | Persons aged 15 years and over (excludes overseas visitors)                      |\n",
       "\n"
      ],
      "text/plain": [
       "   Table.number..name..population.Table.number\n",
       "1  T01                                        \n",
       "2  T02                                        \n",
       "3  T03                                        \n",
       "4  T04                                        \n",
       "5  T05                                        \n",
       "6  T06                                        \n",
       "7  T07                                        \n",
       "8  T08                                        \n",
       "9  T09                                        \n",
       "10 T10                                        \n",
       "11 T11                                        \n",
       "12 T12                                        \n",
       "13 T13                                        \n",
       "14 T14                                        \n",
       "15 T15                                        \n",
       "16 T16                                        \n",
       "17 T17                                        \n",
       "18 T18                                        \n",
       "19 T19                                        \n",
       "20 T20                                        \n",
       "21 T21                                        \n",
       "22 T22                                        \n",
       "23 T23                                        \n",
       "24 T24                                        \n",
       "25 T25                                        \n",
       "26 T26                                        \n",
       "27 T27                                        \n",
       "28 T28                                        \n",
       "29 T29                                        \n",
       "30 T30                                        \n",
       "31 T31                                        \n",
       "32 T32                                        \n",
       "33 T33                                        \n",
       "34 T34                                        \n",
       "35 T35                                        \n",
       "   Table.number..name..population.Table.name                                                            \n",
       "1  Selected Person Characteristics by sex                                                               \n",
       "2  Selected Medians and Averages                                                                        \n",
       "3  Age by Sex                                                                                           \n",
       "4  Registered Marital Status by Age by Sex                                                              \n",
       "5  Social Marital Status by Age by Sex                                                                  \n",
       "6  Indigenous Status by Age by Sex                                                                      \n",
       "7  Number of Children Ever Born by Age of Parent                                                        \n",
       "8  Country of Birth of Person by Sex                                                                    \n",
       "9  Ancestry by country of birth of parents                                                              \n",
       "10 Language used at home by sex                                                                         \n",
       "11 Proficiency in Spoken English by Age                                                                 \n",
       "12 Religious Affiliation by Age                                                                         \n",
       "13 Type of Educational Institution Attending (Full-Time/Part-Time Student Status by Age) by Sex         \n",
       "14 Dwelling Structure by Household Composition and Family Composition                                   \n",
       "15 Dwelling Structure by Number of Persons Usually Resident                                             \n",
       "16 Dwelling Structure and Number of Bedrooms by Number of Persons Usually Resident for Family Households\n",
       "17 Dwelling Structure and Number of Bedrooms by Number of Persons Usually Resident for Group Households \n",
       "18 Tenure and Landlord Type by Dwelling Structure                                                       \n",
       "19 Rent (weekly) by Landlord Type                                                                       \n",
       "20 Rent (weekly) by Family Composition for Couple Families                                              \n",
       "21 Rent (weekly) by Family Composition for One Parent Families                                          \n",
       "22 Total Family Income (weekly) by Number of Children for Couple Families                               \n",
       "23 Total Family Income (weekly) by Number of Children for One Parent Families                           \n",
       "24 Total Household Income (weekly) by Rent (weekly)                                                     \n",
       "25 Family Composition by Mortgage Repayment (monthly)                                                   \n",
       "26 Couple families by Income Comparison for Parents/Partners                                            \n",
       "27 Family Composition and Social Marital Status by Number of Dependent Children                         \n",
       "28 Core Activity Need for Assistance by Age by Sex                                                      \n",
       "29 Selected Labour Force, Education and Migration Characteristics                                       \n",
       "30 Family Composition and Labour Force Status of Parent(s)/Partners by Total Family Income (weekly)     \n",
       "31 Highest Non-School Qualification: Level of Education by Age by Sex                                   \n",
       "32 Highest Non-School Qualification: Field of Study by Age by Sex                                       \n",
       "33 Labour Force Status by Age by Sex                                                                    \n",
       "34 Industry of Employment by Sex                                                                        \n",
       "35 Occupation by Sex                                                                                    \n",
       "   Table.number..name..population.Table.population                                 \n",
       "1  Persons                                                                         \n",
       "2  NA                                                                              \n",
       "3  Persons                                                                         \n",
       "4  Persons aged 15 years and over                                                  \n",
       "5  Persons aged 15 years and over                                                  \n",
       "6  Persons (excludes overseas visitors)                                            \n",
       "7  Females aged 15 years and over (excludes overseas visitors)                     \n",
       "8  Persons                                                                         \n",
       "9  Persons (excludes overseas visitors)                                            \n",
       "10 Persons                                                                         \n",
       "11 Persons (excludes overseas visitors)                                            \n",
       "12 Persons                                                                         \n",
       "13 Persons attending and educational institution                                   \n",
       "14 Occupied private dwellings                                                      \n",
       "15 Occupied private dwellings                                                      \n",
       "16 Occupied private dwellings containing family households                         \n",
       "17 Occupied private dwellings containing group households                          \n",
       "18 Occupied private dwellings                                                      \n",
       "19 Occupied private dwellings being rented                                         \n",
       "20 Couple families in family households                                            \n",
       "21 One parent families in family households                                        \n",
       "22 Couple families with children                                                   \n",
       "23 One parent families with children                                               \n",
       "24 Occupied private dwellings being rented                                         \n",
       "25 Families in family households                                                   \n",
       "26 Couple families                                                                 \n",
       "27 Families with dependent children                                                \n",
       "28 Persons                                                                         \n",
       "29 Persons                                                                         \n",
       "30 Couple families and one parent families in family households                    \n",
       "31 Persons aged 15 years and over with a qualification (excludes overseas visitors)\n",
       "32 Persons aged 15 years and over with a qualification (excludes overseas visitors)\n",
       "33 Persons aged 15 years and over (excludes overseas visitors)                     \n",
       "34 Persons aged 15 years and over (excludes overseas visitors)                     \n",
       "35 Persons aged 15 years and over (excludes overseas visitors)                     "
      ]
     },
     "metadata": {},
     "output_type": "display_data"
    }
   ],
   "source": [
    "table_verbose"
   ]
  },
  {
   "cell_type": "code",
   "execution_count": 17,
   "id": "8f27a0e8-b49f-432a-b06c-a6274542fd2f",
   "metadata": {
    "vscode": {
     "languageId": "r"
    }
   },
   "outputs": [],
   "source": [
    "df <- retrieve_table(\"T31\",table_index, datafiles)\n"
   ]
  },
  {
   "cell_type": "code",
   "execution_count": 18,
   "id": "594317e9-cdac-4b42-b4c5-1c3fb35554ed",
   "metadata": {
    "vscode": {
     "languageId": "r"
    }
   },
   "outputs": [
    {
     "data": {
      "text/html": [
       "<table class=\"dataframe\">\n",
       "<caption>A data.frame: 6 × 991</caption>\n",
       "<thead>\n",
       "\t<tr><th></th><th scope=col>SA4_CODE_2021</th><th scope=col>C11_M_Post_Deg_15_19_yrs</th><th scope=col>C11_M_Post_Deg_20_24_yrs</th><th scope=col>C11_M_Post_Deg_25_34_yrs</th><th scope=col>C11_M_Post_Deg_35_44_yrs</th><th scope=col>C11_M_Post_Deg_45_54_yrs</th><th scope=col>C11_M_Post_Deg_55_64_yrs</th><th scope=col>C11_M_Post_Deg_65_74_yrs</th><th scope=col>C11_M_Post_Deg_75_84_yrs</th><th scope=col>C11_M_Post_Deg_85over</th><th scope=col>⋯</th><th scope=col>C21_P_Tot_15_19_yrs</th><th scope=col>C21_P_Tot_20_24_yrs</th><th scope=col>C21_P_Tot_25_34_yrs</th><th scope=col>C21_P_Tot_35_44_yrs</th><th scope=col>C21_P_Tot_45_54_yrs</th><th scope=col>C21_P_Tot_55_64_yrs</th><th scope=col>C21_P_Tot_65_74_yrs</th><th scope=col>C21_P_Tot_75_84_yrs</th><th scope=col>C21_P_Tot_85over</th><th scope=col>C21_P_Tot_Tot</th></tr>\n",
       "\t<tr><th></th><th scope=col>&lt;int&gt;</th><th scope=col>&lt;int&gt;</th><th scope=col>&lt;int&gt;</th><th scope=col>&lt;int&gt;</th><th scope=col>&lt;int&gt;</th><th scope=col>&lt;int&gt;</th><th scope=col>&lt;int&gt;</th><th scope=col>&lt;int&gt;</th><th scope=col>&lt;int&gt;</th><th scope=col>&lt;int&gt;</th><th scope=col>⋯</th><th scope=col>&lt;int&gt;</th><th scope=col>&lt;int&gt;</th><th scope=col>&lt;int&gt;</th><th scope=col>&lt;int&gt;</th><th scope=col>&lt;int&gt;</th><th scope=col>&lt;int&gt;</th><th scope=col>&lt;int&gt;</th><th scope=col>&lt;int&gt;</th><th scope=col>&lt;int&gt;</th><th scope=col>&lt;int&gt;</th></tr>\n",
       "</thead>\n",
       "<tbody>\n",
       "\t<tr><th scope=row>1</th><td>301</td><td>0</td><td> 12</td><td> 239</td><td> 521</td><td> 608</td><td> 423</td><td>188</td><td> 58</td><td>22</td><td>⋯</td><td>NA</td><td>NA</td><td>NA</td><td>NA</td><td>NA</td><td>NA</td><td>NA</td><td>NA</td><td>NA</td><td>NA</td></tr>\n",
       "\t<tr><th scope=row>2</th><td>302</td><td>0</td><td> 30</td><td> 706</td><td> 795</td><td> 619</td><td> 433</td><td>160</td><td> 70</td><td> 7</td><td>⋯</td><td>NA</td><td>NA</td><td>NA</td><td>NA</td><td>NA</td><td>NA</td><td>NA</td><td>NA</td><td>NA</td><td>NA</td></tr>\n",
       "\t<tr><th scope=row>3</th><td>303</td><td>0</td><td>150</td><td>2600</td><td>2207</td><td>1651</td><td> 991</td><td>372</td><td>106</td><td>15</td><td>⋯</td><td>NA</td><td>NA</td><td>NA</td><td>NA</td><td>NA</td><td>NA</td><td>NA</td><td>NA</td><td>NA</td><td>NA</td></tr>\n",
       "\t<tr><th scope=row>4</th><td>304</td><td>0</td><td> 78</td><td>1138</td><td>1652</td><td>1735</td><td>1417</td><td>721</td><td>244</td><td>48</td><td>⋯</td><td>NA</td><td>NA</td><td>NA</td><td>NA</td><td>NA</td><td>NA</td><td>NA</td><td>NA</td><td>NA</td><td>NA</td></tr>\n",
       "\t<tr><th scope=row>5</th><td>305</td><td>0</td><td>156</td><td>2291</td><td>2305</td><td>1844</td><td>1221</td><td>458</td><td>101</td><td>31</td><td>⋯</td><td>NA</td><td>NA</td><td>NA</td><td>NA</td><td>NA</td><td>NA</td><td>NA</td><td>NA</td><td>NA</td><td>NA</td></tr>\n",
       "\t<tr><th scope=row>6</th><td>306</td><td>0</td><td>  8</td><td> 158</td><td> 346</td><td> 394</td><td> 298</td><td>175</td><td> 46</td><td>13</td><td>⋯</td><td>NA</td><td>NA</td><td>NA</td><td>NA</td><td>NA</td><td>NA</td><td>NA</td><td>NA</td><td>NA</td><td>NA</td></tr>\n",
       "</tbody>\n",
       "</table>\n"
      ],
      "text/latex": [
       "A data.frame: 6 × 991\n",
       "\\begin{tabular}{r|lllllllllllllllllllll}\n",
       "  & SA4\\_CODE\\_2021 & C11\\_M\\_Post\\_Deg\\_15\\_19\\_yrs & C11\\_M\\_Post\\_Deg\\_20\\_24\\_yrs & C11\\_M\\_Post\\_Deg\\_25\\_34\\_yrs & C11\\_M\\_Post\\_Deg\\_35\\_44\\_yrs & C11\\_M\\_Post\\_Deg\\_45\\_54\\_yrs & C11\\_M\\_Post\\_Deg\\_55\\_64\\_yrs & C11\\_M\\_Post\\_Deg\\_65\\_74\\_yrs & C11\\_M\\_Post\\_Deg\\_75\\_84\\_yrs & C11\\_M\\_Post\\_Deg\\_85over & ⋯ & C21\\_P\\_Tot\\_15\\_19\\_yrs & C21\\_P\\_Tot\\_20\\_24\\_yrs & C21\\_P\\_Tot\\_25\\_34\\_yrs & C21\\_P\\_Tot\\_35\\_44\\_yrs & C21\\_P\\_Tot\\_45\\_54\\_yrs & C21\\_P\\_Tot\\_55\\_64\\_yrs & C21\\_P\\_Tot\\_65\\_74\\_yrs & C21\\_P\\_Tot\\_75\\_84\\_yrs & C21\\_P\\_Tot\\_85over & C21\\_P\\_Tot\\_Tot\\\\\n",
       "  & <int> & <int> & <int> & <int> & <int> & <int> & <int> & <int> & <int> & <int> & ⋯ & <int> & <int> & <int> & <int> & <int> & <int> & <int> & <int> & <int> & <int>\\\\\n",
       "\\hline\n",
       "\t1 & 301 & 0 &  12 &  239 &  521 &  608 &  423 & 188 &  58 & 22 & ⋯ & NA & NA & NA & NA & NA & NA & NA & NA & NA & NA\\\\\n",
       "\t2 & 302 & 0 &  30 &  706 &  795 &  619 &  433 & 160 &  70 &  7 & ⋯ & NA & NA & NA & NA & NA & NA & NA & NA & NA & NA\\\\\n",
       "\t3 & 303 & 0 & 150 & 2600 & 2207 & 1651 &  991 & 372 & 106 & 15 & ⋯ & NA & NA & NA & NA & NA & NA & NA & NA & NA & NA\\\\\n",
       "\t4 & 304 & 0 &  78 & 1138 & 1652 & 1735 & 1417 & 721 & 244 & 48 & ⋯ & NA & NA & NA & NA & NA & NA & NA & NA & NA & NA\\\\\n",
       "\t5 & 305 & 0 & 156 & 2291 & 2305 & 1844 & 1221 & 458 & 101 & 31 & ⋯ & NA & NA & NA & NA & NA & NA & NA & NA & NA & NA\\\\\n",
       "\t6 & 306 & 0 &   8 &  158 &  346 &  394 &  298 & 175 &  46 & 13 & ⋯ & NA & NA & NA & NA & NA & NA & NA & NA & NA & NA\\\\\n",
       "\\end{tabular}\n"
      ],
      "text/markdown": [
       "\n",
       "A data.frame: 6 × 991\n",
       "\n",
       "| <!--/--> | SA4_CODE_2021 &lt;int&gt; | C11_M_Post_Deg_15_19_yrs &lt;int&gt; | C11_M_Post_Deg_20_24_yrs &lt;int&gt; | C11_M_Post_Deg_25_34_yrs &lt;int&gt; | C11_M_Post_Deg_35_44_yrs &lt;int&gt; | C11_M_Post_Deg_45_54_yrs &lt;int&gt; | C11_M_Post_Deg_55_64_yrs &lt;int&gt; | C11_M_Post_Deg_65_74_yrs &lt;int&gt; | C11_M_Post_Deg_75_84_yrs &lt;int&gt; | C11_M_Post_Deg_85over &lt;int&gt; | ⋯ ⋯ | C21_P_Tot_15_19_yrs &lt;int&gt; | C21_P_Tot_20_24_yrs &lt;int&gt; | C21_P_Tot_25_34_yrs &lt;int&gt; | C21_P_Tot_35_44_yrs &lt;int&gt; | C21_P_Tot_45_54_yrs &lt;int&gt; | C21_P_Tot_55_64_yrs &lt;int&gt; | C21_P_Tot_65_74_yrs &lt;int&gt; | C21_P_Tot_75_84_yrs &lt;int&gt; | C21_P_Tot_85over &lt;int&gt; | C21_P_Tot_Tot &lt;int&gt; |\n",
       "|---|---|---|---|---|---|---|---|---|---|---|---|---|---|---|---|---|---|---|---|---|---|\n",
       "| 1 | 301 | 0 |  12 |  239 |  521 |  608 |  423 | 188 |  58 | 22 | ⋯ | NA | NA | NA | NA | NA | NA | NA | NA | NA | NA |\n",
       "| 2 | 302 | 0 |  30 |  706 |  795 |  619 |  433 | 160 |  70 |  7 | ⋯ | NA | NA | NA | NA | NA | NA | NA | NA | NA | NA |\n",
       "| 3 | 303 | 0 | 150 | 2600 | 2207 | 1651 |  991 | 372 | 106 | 15 | ⋯ | NA | NA | NA | NA | NA | NA | NA | NA | NA | NA |\n",
       "| 4 | 304 | 0 |  78 | 1138 | 1652 | 1735 | 1417 | 721 | 244 | 48 | ⋯ | NA | NA | NA | NA | NA | NA | NA | NA | NA | NA |\n",
       "| 5 | 305 | 0 | 156 | 2291 | 2305 | 1844 | 1221 | 458 | 101 | 31 | ⋯ | NA | NA | NA | NA | NA | NA | NA | NA | NA | NA |\n",
       "| 6 | 306 | 0 |   8 |  158 |  346 |  394 |  298 | 175 |  46 | 13 | ⋯ | NA | NA | NA | NA | NA | NA | NA | NA | NA | NA |\n",
       "\n"
      ],
      "text/plain": [
       "  SA4_CODE_2021 C11_M_Post_Deg_15_19_yrs C11_M_Post_Deg_20_24_yrs\n",
       "1 301           0                         12                     \n",
       "2 302           0                         30                     \n",
       "3 303           0                        150                     \n",
       "4 304           0                         78                     \n",
       "5 305           0                        156                     \n",
       "6 306           0                          8                     \n",
       "  C11_M_Post_Deg_25_34_yrs C11_M_Post_Deg_35_44_yrs C11_M_Post_Deg_45_54_yrs\n",
       "1  239                      521                      608                    \n",
       "2  706                      795                      619                    \n",
       "3 2600                     2207                     1651                    \n",
       "4 1138                     1652                     1735                    \n",
       "5 2291                     2305                     1844                    \n",
       "6  158                      346                      394                    \n",
       "  C11_M_Post_Deg_55_64_yrs C11_M_Post_Deg_65_74_yrs C11_M_Post_Deg_75_84_yrs\n",
       "1  423                     188                       58                     \n",
       "2  433                     160                       70                     \n",
       "3  991                     372                      106                     \n",
       "4 1417                     721                      244                     \n",
       "5 1221                     458                      101                     \n",
       "6  298                     175                       46                     \n",
       "  C11_M_Post_Deg_85over ⋯ C21_P_Tot_15_19_yrs C21_P_Tot_20_24_yrs\n",
       "1 22                    ⋯ NA                  NA                 \n",
       "2  7                    ⋯ NA                  NA                 \n",
       "3 15                    ⋯ NA                  NA                 \n",
       "4 48                    ⋯ NA                  NA                 \n",
       "5 31                    ⋯ NA                  NA                 \n",
       "6 13                    ⋯ NA                  NA                 \n",
       "  C21_P_Tot_25_34_yrs C21_P_Tot_35_44_yrs C21_P_Tot_45_54_yrs\n",
       "1 NA                  NA                  NA                 \n",
       "2 NA                  NA                  NA                 \n",
       "3 NA                  NA                  NA                 \n",
       "4 NA                  NA                  NA                 \n",
       "5 NA                  NA                  NA                 \n",
       "6 NA                  NA                  NA                 \n",
       "  C21_P_Tot_55_64_yrs C21_P_Tot_65_74_yrs C21_P_Tot_75_84_yrs C21_P_Tot_85over\n",
       "1 NA                  NA                  NA                  NA              \n",
       "2 NA                  NA                  NA                  NA              \n",
       "3 NA                  NA                  NA                  NA              \n",
       "4 NA                  NA                  NA                  NA              \n",
       "5 NA                  NA                  NA                  NA              \n",
       "6 NA                  NA                  NA                  NA              \n",
       "  C21_P_Tot_Tot\n",
       "1 NA           \n",
       "2 NA           \n",
       "3 NA           \n",
       "4 NA           \n",
       "5 NA           \n",
       "6 NA           "
      ]
     },
     "metadata": {},
     "output_type": "display_data"
    }
   ],
   "source": [
    "head(df)"
   ]
  },
  {
   "cell_type": "code",
   "execution_count": 19,
   "id": "5cba665c-360d-4fec-a6c2-80e88fc76a74",
   "metadata": {
    "vscode": {
     "languageId": "r"
    }
   },
   "outputs": [
    {
     "data": {
      "text/html": [
       "<table class=\"dataframe\">\n",
       "<caption>A data.frame: 6 × 991</caption>\n",
       "<thead>\n",
       "\t<tr><th></th><th scope=col>SA4_CODE_2021</th><th scope=col>C11_M_Post_Deg_15_19_yrs</th><th scope=col>C11_M_Post_Deg_20_24_yrs</th><th scope=col>C11_M_Post_Deg_25_34_yrs</th><th scope=col>C11_M_Post_Deg_35_44_yrs</th><th scope=col>C11_M_Post_Deg_45_54_yrs</th><th scope=col>C11_M_Post_Deg_55_64_yrs</th><th scope=col>C11_M_Post_Deg_65_74_yrs</th><th scope=col>C11_M_Post_Deg_75_84_yrs</th><th scope=col>C11_M_Post_Deg_85over</th><th scope=col>⋯</th><th scope=col>C21_P_Tot_15_19_yrs</th><th scope=col>C21_P_Tot_20_24_yrs</th><th scope=col>C21_P_Tot_25_34_yrs</th><th scope=col>C21_P_Tot_35_44_yrs</th><th scope=col>C21_P_Tot_45_54_yrs</th><th scope=col>C21_P_Tot_55_64_yrs</th><th scope=col>C21_P_Tot_65_74_yrs</th><th scope=col>C21_P_Tot_75_84_yrs</th><th scope=col>C21_P_Tot_85over</th><th scope=col>C21_P_Tot_Tot</th></tr>\n",
       "\t<tr><th></th><th scope=col>&lt;int&gt;</th><th scope=col>&lt;int&gt;</th><th scope=col>&lt;int&gt;</th><th scope=col>&lt;int&gt;</th><th scope=col>&lt;int&gt;</th><th scope=col>&lt;int&gt;</th><th scope=col>&lt;int&gt;</th><th scope=col>&lt;int&gt;</th><th scope=col>&lt;int&gt;</th><th scope=col>&lt;int&gt;</th><th scope=col>⋯</th><th scope=col>&lt;int&gt;</th><th scope=col>&lt;int&gt;</th><th scope=col>&lt;int&gt;</th><th scope=col>&lt;int&gt;</th><th scope=col>&lt;int&gt;</th><th scope=col>&lt;int&gt;</th><th scope=col>&lt;int&gt;</th><th scope=col>&lt;int&gt;</th><th scope=col>&lt;int&gt;</th><th scope=col>&lt;int&gt;</th></tr>\n",
       "</thead>\n",
       "<tbody>\n",
       "\t<tr><th scope=row>1</th><td>313</td><td> 0</td><td> 0</td><td>110</td><td>202</td><td>224</td><td>202</td><td>145</td><td> 35</td><td>10</td><td>⋯</td><td>NA</td><td>NA</td><td>NA</td><td>NA</td><td>NA</td><td>NA</td><td>NA</td><td>NA</td><td>NA</td><td>NA</td></tr>\n",
       "\t<tr><th scope=row>2</th><td>314</td><td> 0</td><td> 3</td><td>226</td><td>529</td><td>466</td><td>335</td><td>107</td><td> 29</td><td> 0</td><td>⋯</td><td>NA</td><td>NA</td><td>NA</td><td>NA</td><td>NA</td><td>NA</td><td>NA</td><td>NA</td><td>NA</td><td>NA</td></tr>\n",
       "\t<tr><th scope=row>3</th><td>316</td><td> 0</td><td>14</td><td>194</td><td>516</td><td>601</td><td>644</td><td>478</td><td>153</td><td>16</td><td>⋯</td><td>NA</td><td>NA</td><td>NA</td><td>NA</td><td>NA</td><td>NA</td><td>NA</td><td>NA</td><td>NA</td><td>NA</td></tr>\n",
       "\t<tr><th scope=row>4</th><td>319</td><td> 0</td><td> 0</td><td> 90</td><td>198</td><td>237</td><td>245</td><td>143</td><td> 43</td><td>13</td><td>⋯</td><td>NA</td><td>NA</td><td>NA</td><td>NA</td><td>NA</td><td>NA</td><td>NA</td><td>NA</td><td>NA</td><td>NA</td></tr>\n",
       "\t<tr><th scope=row>5</th><td>313</td><td>NA</td><td>NA</td><td> NA</td><td> NA</td><td> NA</td><td> NA</td><td> NA</td><td> NA</td><td>NA</td><td>⋯</td><td>NA</td><td>NA</td><td>NA</td><td>NA</td><td>NA</td><td>NA</td><td>NA</td><td>NA</td><td>NA</td><td>NA</td></tr>\n",
       "\t<tr><th scope=row>6</th><td>314</td><td>NA</td><td>NA</td><td> NA</td><td> NA</td><td> NA</td><td> NA</td><td> NA</td><td> NA</td><td>NA</td><td>⋯</td><td>NA</td><td>NA</td><td>NA</td><td>NA</td><td>NA</td><td>NA</td><td>NA</td><td>NA</td><td>NA</td><td>NA</td></tr>\n",
       "</tbody>\n",
       "</table>\n"
      ],
      "text/latex": [
       "A data.frame: 6 × 991\n",
       "\\begin{tabular}{r|lllllllllllllllllllll}\n",
       "  & SA4\\_CODE\\_2021 & C11\\_M\\_Post\\_Deg\\_15\\_19\\_yrs & C11\\_M\\_Post\\_Deg\\_20\\_24\\_yrs & C11\\_M\\_Post\\_Deg\\_25\\_34\\_yrs & C11\\_M\\_Post\\_Deg\\_35\\_44\\_yrs & C11\\_M\\_Post\\_Deg\\_45\\_54\\_yrs & C11\\_M\\_Post\\_Deg\\_55\\_64\\_yrs & C11\\_M\\_Post\\_Deg\\_65\\_74\\_yrs & C11\\_M\\_Post\\_Deg\\_75\\_84\\_yrs & C11\\_M\\_Post\\_Deg\\_85over & ⋯ & C21\\_P\\_Tot\\_15\\_19\\_yrs & C21\\_P\\_Tot\\_20\\_24\\_yrs & C21\\_P\\_Tot\\_25\\_34\\_yrs & C21\\_P\\_Tot\\_35\\_44\\_yrs & C21\\_P\\_Tot\\_45\\_54\\_yrs & C21\\_P\\_Tot\\_55\\_64\\_yrs & C21\\_P\\_Tot\\_65\\_74\\_yrs & C21\\_P\\_Tot\\_75\\_84\\_yrs & C21\\_P\\_Tot\\_85over & C21\\_P\\_Tot\\_Tot\\\\\n",
       "  & <int> & <int> & <int> & <int> & <int> & <int> & <int> & <int> & <int> & <int> & ⋯ & <int> & <int> & <int> & <int> & <int> & <int> & <int> & <int> & <int> & <int>\\\\\n",
       "\\hline\n",
       "\t1 & 313 &  0 &  0 & 110 & 202 & 224 & 202 & 145 &  35 & 10 & ⋯ & NA & NA & NA & NA & NA & NA & NA & NA & NA & NA\\\\\n",
       "\t2 & 314 &  0 &  3 & 226 & 529 & 466 & 335 & 107 &  29 &  0 & ⋯ & NA & NA & NA & NA & NA & NA & NA & NA & NA & NA\\\\\n",
       "\t3 & 316 &  0 & 14 & 194 & 516 & 601 & 644 & 478 & 153 & 16 & ⋯ & NA & NA & NA & NA & NA & NA & NA & NA & NA & NA\\\\\n",
       "\t4 & 319 &  0 &  0 &  90 & 198 & 237 & 245 & 143 &  43 & 13 & ⋯ & NA & NA & NA & NA & NA & NA & NA & NA & NA & NA\\\\\n",
       "\t5 & 313 & NA & NA &  NA &  NA &  NA &  NA &  NA &  NA & NA & ⋯ & NA & NA & NA & NA & NA & NA & NA & NA & NA & NA\\\\\n",
       "\t6 & 314 & NA & NA &  NA &  NA &  NA &  NA &  NA &  NA & NA & ⋯ & NA & NA & NA & NA & NA & NA & NA & NA & NA & NA\\\\\n",
       "\\end{tabular}\n"
      ],
      "text/markdown": [
       "\n",
       "A data.frame: 6 × 991\n",
       "\n",
       "| <!--/--> | SA4_CODE_2021 &lt;int&gt; | C11_M_Post_Deg_15_19_yrs &lt;int&gt; | C11_M_Post_Deg_20_24_yrs &lt;int&gt; | C11_M_Post_Deg_25_34_yrs &lt;int&gt; | C11_M_Post_Deg_35_44_yrs &lt;int&gt; | C11_M_Post_Deg_45_54_yrs &lt;int&gt; | C11_M_Post_Deg_55_64_yrs &lt;int&gt; | C11_M_Post_Deg_65_74_yrs &lt;int&gt; | C11_M_Post_Deg_75_84_yrs &lt;int&gt; | C11_M_Post_Deg_85over &lt;int&gt; | ⋯ ⋯ | C21_P_Tot_15_19_yrs &lt;int&gt; | C21_P_Tot_20_24_yrs &lt;int&gt; | C21_P_Tot_25_34_yrs &lt;int&gt; | C21_P_Tot_35_44_yrs &lt;int&gt; | C21_P_Tot_45_54_yrs &lt;int&gt; | C21_P_Tot_55_64_yrs &lt;int&gt; | C21_P_Tot_65_74_yrs &lt;int&gt; | C21_P_Tot_75_84_yrs &lt;int&gt; | C21_P_Tot_85over &lt;int&gt; | C21_P_Tot_Tot &lt;int&gt; |\n",
       "|---|---|---|---|---|---|---|---|---|---|---|---|---|---|---|---|---|---|---|---|---|---|\n",
       "| 1 | 313 |  0 |  0 | 110 | 202 | 224 | 202 | 145 |  35 | 10 | ⋯ | NA | NA | NA | NA | NA | NA | NA | NA | NA | NA |\n",
       "| 2 | 314 |  0 |  3 | 226 | 529 | 466 | 335 | 107 |  29 |  0 | ⋯ | NA | NA | NA | NA | NA | NA | NA | NA | NA | NA |\n",
       "| 3 | 316 |  0 | 14 | 194 | 516 | 601 | 644 | 478 | 153 | 16 | ⋯ | NA | NA | NA | NA | NA | NA | NA | NA | NA | NA |\n",
       "| 4 | 319 |  0 |  0 |  90 | 198 | 237 | 245 | 143 |  43 | 13 | ⋯ | NA | NA | NA | NA | NA | NA | NA | NA | NA | NA |\n",
       "| 5 | 313 | NA | NA |  NA |  NA |  NA |  NA |  NA |  NA | NA | ⋯ | NA | NA | NA | NA | NA | NA | NA | NA | NA | NA |\n",
       "| 6 | 314 | NA | NA |  NA |  NA |  NA |  NA |  NA |  NA | NA | ⋯ | NA | NA | NA | NA | NA | NA | NA | NA | NA | NA |\n",
       "\n"
      ],
      "text/plain": [
       "  SA4_CODE_2021 C11_M_Post_Deg_15_19_yrs C11_M_Post_Deg_20_24_yrs\n",
       "1 313            0                        0                      \n",
       "2 314            0                        3                      \n",
       "3 316            0                       14                      \n",
       "4 319            0                        0                      \n",
       "5 313           NA                       NA                      \n",
       "6 314           NA                       NA                      \n",
       "  C11_M_Post_Deg_25_34_yrs C11_M_Post_Deg_35_44_yrs C11_M_Post_Deg_45_54_yrs\n",
       "1 110                      202                      224                     \n",
       "2 226                      529                      466                     \n",
       "3 194                      516                      601                     \n",
       "4  90                      198                      237                     \n",
       "5  NA                       NA                       NA                     \n",
       "6  NA                       NA                       NA                     \n",
       "  C11_M_Post_Deg_55_64_yrs C11_M_Post_Deg_65_74_yrs C11_M_Post_Deg_75_84_yrs\n",
       "1 202                      145                       35                     \n",
       "2 335                      107                       29                     \n",
       "3 644                      478                      153                     \n",
       "4 245                      143                       43                     \n",
       "5  NA                       NA                       NA                     \n",
       "6  NA                       NA                       NA                     \n",
       "  C11_M_Post_Deg_85over ⋯ C21_P_Tot_15_19_yrs C21_P_Tot_20_24_yrs\n",
       "1 10                    ⋯ NA                  NA                 \n",
       "2  0                    ⋯ NA                  NA                 \n",
       "3 16                    ⋯ NA                  NA                 \n",
       "4 13                    ⋯ NA                  NA                 \n",
       "5 NA                    ⋯ NA                  NA                 \n",
       "6 NA                    ⋯ NA                  NA                 \n",
       "  C21_P_Tot_25_34_yrs C21_P_Tot_35_44_yrs C21_P_Tot_45_54_yrs\n",
       "1 NA                  NA                  NA                 \n",
       "2 NA                  NA                  NA                 \n",
       "3 NA                  NA                  NA                 \n",
       "4 NA                  NA                  NA                 \n",
       "5 NA                  NA                  NA                 \n",
       "6 NA                  NA                  NA                 \n",
       "  C21_P_Tot_55_64_yrs C21_P_Tot_65_74_yrs C21_P_Tot_75_84_yrs C21_P_Tot_85over\n",
       "1 NA                  NA                  NA                  NA              \n",
       "2 NA                  NA                  NA                  NA              \n",
       "3 NA                  NA                  NA                  NA              \n",
       "4 NA                  NA                  NA                  NA              \n",
       "5 NA                  NA                  NA                  NA              \n",
       "6 NA                  NA                  NA                  NA              \n",
       "  C21_P_Tot_Tot\n",
       "1 NA           \n",
       "2 NA           \n",
       "3 NA           \n",
       "4 NA           \n",
       "5 NA           \n",
       "6 NA           "
      ]
     },
     "metadata": {},
     "output_type": "display_data"
    }
   ],
   "source": [
    "df <- df %>% filter(SA4_CODE_2021 %in% c(316, 313, 314, 319))\n",
    "head(df)"
   ]
  },
  {
   "cell_type": "code",
   "execution_count": 20,
   "id": "ced0d2e1-dc65-4ad7-b73a-3edc03a48285",
   "metadata": {},
   "outputs": [],
   "source": [
    "search_long <- function(search_value, table_desc) {\n",
    "  # Search for the index for the dynamic value in the second column\n",
    "  index <- grep(search_value, table_desc[, 2], fixed = TRUE, ignore.case = FALSE)\n",
    "  # Return the 2nd and 3rd columns of matching rows\n",
    "  result <- table_desc[index, c(2, 3)]\n",
    "  return(result)\n",
    "}\n",
    "\n",
    "search_short <- function(search_value, table_desc) {\n",
    "  # Replace spaces with underscores in the search value\n",
    "  search_value <- gsub(\" \", \"_\", search_value)\n",
    "\n",
    "  # Search for the index for the dynamic value\n",
    "  index <- grep(search_value, table_desc[, 3], fixed = TRUE, ignore.case = FALSE)\n",
    "  \n",
    "  # Return the 2nd and 3rd columns of matching rows\n",
    "  result <- table_desc[index, c(2, 3)]\n",
    "  return(result)\n",
    "}"
   ]
  },
  {
   "cell_type": "code",
   "execution_count": 23,
   "id": "1b8b6a7c-2cc5-4792-ab50-903e381a0dc7",
   "metadata": {
    "vscode": {
     "languageId": "r"
    }
   },
   "outputs": [
    {
     "data": {
      "text/html": [
       "<table class=\"dataframe\">\n",
       "<caption>A data.frame: 2 × 2</caption>\n",
       "<thead>\n",
       "\t<tr><th></th><th scope=col>Cell.descriptors.information.Short</th><th scope=col>Cell.descriptors.information.Long</th></tr>\n",
       "\t<tr><th></th><th scope=col>&lt;chr&gt;</th><th scope=col>&lt;chr&gt;</th></tr>\n",
       "</thead>\n",
       "<tbody>\n",
       "\t<tr><th scope=row>13773</th><td>C21_P_Tot_15_19_yrs</td><td>2021_Census_Persons_Total_Age_15_19_years</td></tr>\n",
       "\t<tr><th scope=row>15123</th><td>C21_P_Tot_15_19    </td><td>2021_Census_Persons_Total_Age_15_19_years</td></tr>\n",
       "</tbody>\n",
       "</table>\n"
      ],
      "text/latex": [
       "A data.frame: 2 × 2\n",
       "\\begin{tabular}{r|ll}\n",
       "  & Cell.descriptors.information.Short & Cell.descriptors.information.Long\\\\\n",
       "  & <chr> & <chr>\\\\\n",
       "\\hline\n",
       "\t13773 & C21\\_P\\_Tot\\_15\\_19\\_yrs & 2021\\_Census\\_Persons\\_Total\\_Age\\_15\\_19\\_years\\\\\n",
       "\t15123 & C21\\_P\\_Tot\\_15\\_19     & 2021\\_Census\\_Persons\\_Total\\_Age\\_15\\_19\\_years\\\\\n",
       "\\end{tabular}\n"
      ],
      "text/markdown": [
       "\n",
       "A data.frame: 2 × 2\n",
       "\n",
       "| <!--/--> | Cell.descriptors.information.Short &lt;chr&gt; | Cell.descriptors.information.Long &lt;chr&gt; |\n",
       "|---|---|---|\n",
       "| 13773 | C21_P_Tot_15_19_yrs | 2021_Census_Persons_Total_Age_15_19_years |\n",
       "| 15123 | C21_P_Tot_15_19     | 2021_Census_Persons_Total_Age_15_19_years |\n",
       "\n"
      ],
      "text/plain": [
       "      Cell.descriptors.information.Short\n",
       "13773 C21_P_Tot_15_19_yrs               \n",
       "15123 C21_P_Tot_15_19                   \n",
       "      Cell.descriptors.information.Long        \n",
       "13773 2021_Census_Persons_Total_Age_15_19_years\n",
       "15123 2021_Census_Persons_Total_Age_15_19_years"
      ]
     },
     "metadata": {},
     "output_type": "display_data"
    },
    {
     "data": {
      "text/html": [
       "<table class=\"dataframe\">\n",
       "<caption>A data.frame: 234 × 2</caption>\n",
       "<thead>\n",
       "\t<tr><th></th><th scope=col>Cell.descriptors.information.Short</th><th scope=col>Cell.descriptors.information.Long</th></tr>\n",
       "\t<tr><th></th><th scope=col>&lt;chr&gt;</th><th scope=col>&lt;chr&gt;</th></tr>\n",
       "</thead>\n",
       "<tbody>\n",
       "\t<tr><th scope=row>12793</th><td>C11_M_Post_Deg_15_19_yrs</td><td>2011_Census_Males_Postgraduate_Degree_Level_Age_15_19_years                      </td></tr>\n",
       "\t<tr><th scope=row>12803</th><td>C11_M_GrDip_GrCe_15_19  </td><td>2011_Census_Males_Graduate_Diploma_and_Graduate_Certificate_Level_Age_15_19_years</td></tr>\n",
       "\t<tr><th scope=row>12813</th><td>C11_M_BD_15_19          </td><td>2011_Census_Males_Bachelor_Degree_Level_Age_15_19_years                          </td></tr>\n",
       "\t<tr><th scope=row>12823</th><td>C11_M_AdD_DL_15_19      </td><td>2011_Census_Males_Advanced_Diploma_and_Diploma_Level_Age_15_19_years             </td></tr>\n",
       "\t<tr><th scope=row>12833</th><td>C11_M_CL_C_III_IV_15_19 </td><td>2011_Census_Males_Certificate_Level_Certificate_III_and_IV_Level_Age_15_19_years </td></tr>\n",
       "\t<tr><th scope=row>12843</th><td>C11_M_CL_C_I_II_15_19   </td><td>2011_Census_Males_Certificate_Level_Certificate_I_and_II_Level_Age_15_19_years   </td></tr>\n",
       "\t<tr><th scope=row>12853</th><td>C11_M_CL_CL_nfd_15_19   </td><td>2011_Census_Males_Certificate_Level_Certificate_Level_nfd_Age_15_19_years        </td></tr>\n",
       "\t<tr><th scope=row>12863</th><td>C11_M_CL_Tot_15_19      </td><td>2011_Census_Males_Certificate_Level_Total_Age_15_19_years                        </td></tr>\n",
       "\t<tr><th scope=row>12873</th><td>C11_M_LE_ID_15_19       </td><td>2011_Census_Males_Level_of_education_inadequately_described_Age_15_19_years      </td></tr>\n",
       "\t<tr><th scope=row>12883</th><td>C11_M_LE_NS_15_19       </td><td>2011_Census_Males_Level_of_education_not_stated_Age_15_19_years                  </td></tr>\n",
       "\t<tr><th scope=row>12893</th><td>C11_M_Tot_15_19_yrs     </td><td>2011_Census_Males_Total_Age_15_19_years                                          </td></tr>\n",
       "\t<tr><th scope=row>12903</th><td>C16_M_Post_Deg_15_19_yrs</td><td>2016_Census_Males_Postgraduate_Degree_Level_Age_15_19_years                      </td></tr>\n",
       "\t<tr><th scope=row>12913</th><td>C16_M_GrDip_GrCe_15_19  </td><td>2016_Census_Males_Graduate_Diploma_and_Graduate_Certificate_Level_Age_15_19_years</td></tr>\n",
       "\t<tr><th scope=row>12923</th><td>C16_M_BD_15_19          </td><td>2016_Census_Males_Bachelor_Degree_Level_Age_15_19_years                          </td></tr>\n",
       "\t<tr><th scope=row>12933</th><td>C16_M_AdD_DL_15_19      </td><td>2016_Census_Males_Advanced_Diploma_and_Diploma_Level_Age_15_19_years             </td></tr>\n",
       "\t<tr><th scope=row>12943</th><td>C16_M_CL_C_III_IV_15_19 </td><td>2016_Census_Males_Certificate_Level_Certificate_III_and_IV_Level_Age_15_19_years </td></tr>\n",
       "\t<tr><th scope=row>12953</th><td>C16_M_CL_C_I_II_15_19   </td><td>2016_Census_Males_Certificate_Level_Certificate_I_and_II_Level_Age_15_19_years   </td></tr>\n",
       "\t<tr><th scope=row>12963</th><td>C16_M_CL_CL_nfd_15_19   </td><td>2016_Census_Males_Certificate_Level_Certificate_Level_nfd_Age_15_19_years        </td></tr>\n",
       "\t<tr><th scope=row>12973</th><td>C16_M_CL_Tot_15_19      </td><td>2016_Census_Males_Certificate_Level_Total_Age_15_19_years                        </td></tr>\n",
       "\t<tr><th scope=row>12983</th><td>C16_M_LE_ID_15_19       </td><td>2016_Census_Males_Level_of_education_inadequately_described_Age_15_19_years      </td></tr>\n",
       "\t<tr><th scope=row>12993</th><td>C16_M_LE_NS_15_19       </td><td>2016_Census_Males_Level_of_education_not_stated_Age_15_19_years                  </td></tr>\n",
       "\t<tr><th scope=row>13003</th><td>C16_M_Tot_15_19_yrs     </td><td>2016_Census_Males_Total_Age_15_19_years                                          </td></tr>\n",
       "\t<tr><th scope=row>13013</th><td>C21_M_Post_Deg_15_19_yrs</td><td>2021_Census_Males_Postgraduate_Degree_Level_Age_15_19_years                      </td></tr>\n",
       "\t<tr><th scope=row>13023</th><td>C21_M_GrDip_GrCe_15_19  </td><td>2021_Census_Males_Graduate_Diploma_and_Graduate_Certificate_Level_Age_15_19_years</td></tr>\n",
       "\t<tr><th scope=row>13033</th><td>C21_M_BD_15_19          </td><td>2021_Census_Males_Bachelor_Degree_Level_Age_15_19_years                          </td></tr>\n",
       "\t<tr><th scope=row>13043</th><td>C21_M_AdD_DL_15_19      </td><td>2021_Census_Males_Advanced_Diploma_and_Diploma_Level_Age_15_19_years             </td></tr>\n",
       "\t<tr><th scope=row>13053</th><td>C21_M_CL_C_III_IV_15_19 </td><td>2021_Census_Males_Certificate_Level_Certificate_III_and_IV_Level_Age_15_19_years </td></tr>\n",
       "\t<tr><th scope=row>13063</th><td>C21_M_CL_C_I_II_15_19   </td><td>2021_Census_Males_Certificate_Level_Certificate_I_and_II_Level_Age_15_19_years   </td></tr>\n",
       "\t<tr><th scope=row>13073</th><td>C21_M_CL_CL_nfd_15_19   </td><td>2021_Census_Males_Certificate_Level_Certificate_Level_nfd_Age_15_19_years        </td></tr>\n",
       "\t<tr><th scope=row>13083</th><td>C21_M_CL_Tot_15_19      </td><td>2021_Census_Males_Certificate_Level_Total_Age_15_19_years                        </td></tr>\n",
       "\t<tr><th scope=row>⋮</th><td>⋮</td><td>⋮</td></tr>\n",
       "\t<tr><th scope=row>14833</th><td>C16_P_NatPhy_sci_15_19  </td><td>2016_Census_Persons_Natural_and_physical_sciences_Age_15_19_years                </td></tr>\n",
       "\t<tr><th scope=row>14843</th><td>C16_P_InfTec_15_19      </td><td>2016_Census_Persons_Information_technology_Age_15_19_years                       </td></tr>\n",
       "\t<tr><th scope=row>14853</th><td>C16_P_EngRT_15_19       </td><td>2016_Census_Persons_Engineering_and_related_technologies_Age_15_19_years         </td></tr>\n",
       "\t<tr><th scope=row>14863</th><td>C16_P_ArchBuild_15_19   </td><td>2016_Census_Persons_Architecture_and_building_Age_15_19_years                    </td></tr>\n",
       "\t<tr><th scope=row>14873</th><td>C16_P_AgEnv_RS_15_19    </td><td>2016_Census_Persons_Agriculture_environmental_and_related_studies_Age_15_19_years</td></tr>\n",
       "\t<tr><th scope=row>14883</th><td>C16_P_Health_15_19      </td><td>2016_Census_Persons_Health_Age_15_19_years                                       </td></tr>\n",
       "\t<tr><th scope=row>14893</th><td>C16_P_Educ_15_19        </td><td>2016_Census_Persons_Education_Age_15_19_years                                    </td></tr>\n",
       "\t<tr><th scope=row>14903</th><td>C16_P_MngtCom_15_19     </td><td>2016_Census_Persons_Management_and_commerce_Age_15_19_years                      </td></tr>\n",
       "\t<tr><th scope=row>14913</th><td>C16_P_Soc_cult_15_19    </td><td>2016_Census_Persons_Society_and_culture_Age_15_19_years                          </td></tr>\n",
       "\t<tr><th scope=row>14923</th><td>C16_P_Creative_art_15_19</td><td>2016_Census_Persons_Creative_arts_Age_15_19_years                                </td></tr>\n",
       "\t<tr><th scope=row>14933</th><td>C16_P_FoodHos_PS_15_19  </td><td>2016_Census_Persons_Food_hospitality_and_personal_services_Age_15_19_years       </td></tr>\n",
       "\t<tr><th scope=row>14943</th><td>C16_P_MixFld_pr_15_19   </td><td>2016_Census_Persons_Mixed_field_programmes_Age_15_19_years                       </td></tr>\n",
       "\t<tr><th scope=row>14953</th><td>C16_P_FldStu_ID_15_19   </td><td>2016_Census_Persons_Field_of_study_inadequately_described_Age_15_19_years        </td></tr>\n",
       "\t<tr><th scope=row>14963</th><td>C16_P_FldStu_NS_15_19   </td><td>2016_Census_Persons_Field_of_study_not_stated_Age_15_19_years                    </td></tr>\n",
       "\t<tr><th scope=row>14973</th><td>C16_P_Tot_15_19         </td><td>2016_Census_Persons_Total_Age_15_19_years                                        </td></tr>\n",
       "\t<tr><th scope=row>14983</th><td>C21_P_NatPhy_sci_15_19  </td><td>2021_Census_Persons_Natural_and_physical_sciences_Age_15_19_years                </td></tr>\n",
       "\t<tr><th scope=row>14993</th><td>C21_P_InfTec_15_19      </td><td>2021_Census_Persons_Information_technology_Age_15_19_years                       </td></tr>\n",
       "\t<tr><th scope=row>15003</th><td>C21_P_EngRT_15_19       </td><td>2021_Census_Persons_Engineering_and_related_technologies_Age_15_19_years         </td></tr>\n",
       "\t<tr><th scope=row>15013</th><td>C21_P_ArchBuild_15_19   </td><td>2021_Census_Persons_Architecture_and_building_Age_15_19_years                    </td></tr>\n",
       "\t<tr><th scope=row>15023</th><td>C21_P_AgEnv_RS_15_19    </td><td>2021_Census_Persons_Agriculture_environmental_and_related_studies_Age_15_19_years</td></tr>\n",
       "\t<tr><th scope=row>15033</th><td>C21_P_Health_15_19      </td><td>2021_Census_Persons_Health_Age_15_19_years                                       </td></tr>\n",
       "\t<tr><th scope=row>15043</th><td>C21_P_Educ_15_19        </td><td>2021_Census_Persons_Education_Age_15_19_years                                    </td></tr>\n",
       "\t<tr><th scope=row>15053</th><td>C21_P_MngtCom_15_19     </td><td>2021_Census_Persons_Management_and_commerce_Age_15_19_years                      </td></tr>\n",
       "\t<tr><th scope=row>15063</th><td>C21_P_Soc_cult_15_19    </td><td>2021_Census_Persons_Society_and_culture_Age_15_19_years                          </td></tr>\n",
       "\t<tr><th scope=row>15073</th><td>C21_P_Creative_art_15_19</td><td>2021_Census_Persons_Creative_arts_Age_15_19_years                                </td></tr>\n",
       "\t<tr><th scope=row>15083</th><td>C21_P_FoodHos_PS_15_19  </td><td>2021_Census_Persons_Food_hospitality_and_personal_services_Age_15_19_years       </td></tr>\n",
       "\t<tr><th scope=row>15093</th><td>C21_P_MixFld_pr_15_19   </td><td>2021_Census_Persons_Mixed_field_programmes_Age_15_19_years                       </td></tr>\n",
       "\t<tr><th scope=row>15103</th><td>C21_P_FldStu_ID_15_19   </td><td>2021_Census_Persons_Field_of_study_inadequately_described_Age_15_19_years        </td></tr>\n",
       "\t<tr><th scope=row>15113</th><td>C21_P_FldStu_NS_15_19   </td><td>2021_Census_Persons_Field_of_study_not_stated_Age_15_19_years                    </td></tr>\n",
       "\t<tr><th scope=row>15123</th><td>C21_P_Tot_15_19         </td><td>2021_Census_Persons_Total_Age_15_19_years                                        </td></tr>\n",
       "</tbody>\n",
       "</table>\n"
      ],
      "text/latex": [
       "A data.frame: 234 × 2\n",
       "\\begin{tabular}{r|ll}\n",
       "  & Cell.descriptors.information.Short & Cell.descriptors.information.Long\\\\\n",
       "  & <chr> & <chr>\\\\\n",
       "\\hline\n",
       "\t12793 & C11\\_M\\_Post\\_Deg\\_15\\_19\\_yrs & 2011\\_Census\\_Males\\_Postgraduate\\_Degree\\_Level\\_Age\\_15\\_19\\_years                      \\\\\n",
       "\t12803 & C11\\_M\\_GrDip\\_GrCe\\_15\\_19   & 2011\\_Census\\_Males\\_Graduate\\_Diploma\\_and\\_Graduate\\_Certificate\\_Level\\_Age\\_15\\_19\\_years\\\\\n",
       "\t12813 & C11\\_M\\_BD\\_15\\_19           & 2011\\_Census\\_Males\\_Bachelor\\_Degree\\_Level\\_Age\\_15\\_19\\_years                          \\\\\n",
       "\t12823 & C11\\_M\\_AdD\\_DL\\_15\\_19       & 2011\\_Census\\_Males\\_Advanced\\_Diploma\\_and\\_Diploma\\_Level\\_Age\\_15\\_19\\_years             \\\\\n",
       "\t12833 & C11\\_M\\_CL\\_C\\_III\\_IV\\_15\\_19  & 2011\\_Census\\_Males\\_Certificate\\_Level\\_Certificate\\_III\\_and\\_IV\\_Level\\_Age\\_15\\_19\\_years \\\\\n",
       "\t12843 & C11\\_M\\_CL\\_C\\_I\\_II\\_15\\_19    & 2011\\_Census\\_Males\\_Certificate\\_Level\\_Certificate\\_I\\_and\\_II\\_Level\\_Age\\_15\\_19\\_years   \\\\\n",
       "\t12853 & C11\\_M\\_CL\\_CL\\_nfd\\_15\\_19    & 2011\\_Census\\_Males\\_Certificate\\_Level\\_Certificate\\_Level\\_nfd\\_Age\\_15\\_19\\_years        \\\\\n",
       "\t12863 & C11\\_M\\_CL\\_Tot\\_15\\_19       & 2011\\_Census\\_Males\\_Certificate\\_Level\\_Total\\_Age\\_15\\_19\\_years                        \\\\\n",
       "\t12873 & C11\\_M\\_LE\\_ID\\_15\\_19        & 2011\\_Census\\_Males\\_Level\\_of\\_education\\_inadequately\\_described\\_Age\\_15\\_19\\_years      \\\\\n",
       "\t12883 & C11\\_M\\_LE\\_NS\\_15\\_19        & 2011\\_Census\\_Males\\_Level\\_of\\_education\\_not\\_stated\\_Age\\_15\\_19\\_years                  \\\\\n",
       "\t12893 & C11\\_M\\_Tot\\_15\\_19\\_yrs      & 2011\\_Census\\_Males\\_Total\\_Age\\_15\\_19\\_years                                          \\\\\n",
       "\t12903 & C16\\_M\\_Post\\_Deg\\_15\\_19\\_yrs & 2016\\_Census\\_Males\\_Postgraduate\\_Degree\\_Level\\_Age\\_15\\_19\\_years                      \\\\\n",
       "\t12913 & C16\\_M\\_GrDip\\_GrCe\\_15\\_19   & 2016\\_Census\\_Males\\_Graduate\\_Diploma\\_and\\_Graduate\\_Certificate\\_Level\\_Age\\_15\\_19\\_years\\\\\n",
       "\t12923 & C16\\_M\\_BD\\_15\\_19           & 2016\\_Census\\_Males\\_Bachelor\\_Degree\\_Level\\_Age\\_15\\_19\\_years                          \\\\\n",
       "\t12933 & C16\\_M\\_AdD\\_DL\\_15\\_19       & 2016\\_Census\\_Males\\_Advanced\\_Diploma\\_and\\_Diploma\\_Level\\_Age\\_15\\_19\\_years             \\\\\n",
       "\t12943 & C16\\_M\\_CL\\_C\\_III\\_IV\\_15\\_19  & 2016\\_Census\\_Males\\_Certificate\\_Level\\_Certificate\\_III\\_and\\_IV\\_Level\\_Age\\_15\\_19\\_years \\\\\n",
       "\t12953 & C16\\_M\\_CL\\_C\\_I\\_II\\_15\\_19    & 2016\\_Census\\_Males\\_Certificate\\_Level\\_Certificate\\_I\\_and\\_II\\_Level\\_Age\\_15\\_19\\_years   \\\\\n",
       "\t12963 & C16\\_M\\_CL\\_CL\\_nfd\\_15\\_19    & 2016\\_Census\\_Males\\_Certificate\\_Level\\_Certificate\\_Level\\_nfd\\_Age\\_15\\_19\\_years        \\\\\n",
       "\t12973 & C16\\_M\\_CL\\_Tot\\_15\\_19       & 2016\\_Census\\_Males\\_Certificate\\_Level\\_Total\\_Age\\_15\\_19\\_years                        \\\\\n",
       "\t12983 & C16\\_M\\_LE\\_ID\\_15\\_19        & 2016\\_Census\\_Males\\_Level\\_of\\_education\\_inadequately\\_described\\_Age\\_15\\_19\\_years      \\\\\n",
       "\t12993 & C16\\_M\\_LE\\_NS\\_15\\_19        & 2016\\_Census\\_Males\\_Level\\_of\\_education\\_not\\_stated\\_Age\\_15\\_19\\_years                  \\\\\n",
       "\t13003 & C16\\_M\\_Tot\\_15\\_19\\_yrs      & 2016\\_Census\\_Males\\_Total\\_Age\\_15\\_19\\_years                                          \\\\\n",
       "\t13013 & C21\\_M\\_Post\\_Deg\\_15\\_19\\_yrs & 2021\\_Census\\_Males\\_Postgraduate\\_Degree\\_Level\\_Age\\_15\\_19\\_years                      \\\\\n",
       "\t13023 & C21\\_M\\_GrDip\\_GrCe\\_15\\_19   & 2021\\_Census\\_Males\\_Graduate\\_Diploma\\_and\\_Graduate\\_Certificate\\_Level\\_Age\\_15\\_19\\_years\\\\\n",
       "\t13033 & C21\\_M\\_BD\\_15\\_19           & 2021\\_Census\\_Males\\_Bachelor\\_Degree\\_Level\\_Age\\_15\\_19\\_years                          \\\\\n",
       "\t13043 & C21\\_M\\_AdD\\_DL\\_15\\_19       & 2021\\_Census\\_Males\\_Advanced\\_Diploma\\_and\\_Diploma\\_Level\\_Age\\_15\\_19\\_years             \\\\\n",
       "\t13053 & C21\\_M\\_CL\\_C\\_III\\_IV\\_15\\_19  & 2021\\_Census\\_Males\\_Certificate\\_Level\\_Certificate\\_III\\_and\\_IV\\_Level\\_Age\\_15\\_19\\_years \\\\\n",
       "\t13063 & C21\\_M\\_CL\\_C\\_I\\_II\\_15\\_19    & 2021\\_Census\\_Males\\_Certificate\\_Level\\_Certificate\\_I\\_and\\_II\\_Level\\_Age\\_15\\_19\\_years   \\\\\n",
       "\t13073 & C21\\_M\\_CL\\_CL\\_nfd\\_15\\_19    & 2021\\_Census\\_Males\\_Certificate\\_Level\\_Certificate\\_Level\\_nfd\\_Age\\_15\\_19\\_years        \\\\\n",
       "\t13083 & C21\\_M\\_CL\\_Tot\\_15\\_19       & 2021\\_Census\\_Males\\_Certificate\\_Level\\_Total\\_Age\\_15\\_19\\_years                        \\\\\n",
       "\t⋮ & ⋮ & ⋮\\\\\n",
       "\t14833 & C16\\_P\\_NatPhy\\_sci\\_15\\_19   & 2016\\_Census\\_Persons\\_Natural\\_and\\_physical\\_sciences\\_Age\\_15\\_19\\_years                \\\\\n",
       "\t14843 & C16\\_P\\_InfTec\\_15\\_19       & 2016\\_Census\\_Persons\\_Information\\_technology\\_Age\\_15\\_19\\_years                       \\\\\n",
       "\t14853 & C16\\_P\\_EngRT\\_15\\_19        & 2016\\_Census\\_Persons\\_Engineering\\_and\\_related\\_technologies\\_Age\\_15\\_19\\_years         \\\\\n",
       "\t14863 & C16\\_P\\_ArchBuild\\_15\\_19    & 2016\\_Census\\_Persons\\_Architecture\\_and\\_building\\_Age\\_15\\_19\\_years                    \\\\\n",
       "\t14873 & C16\\_P\\_AgEnv\\_RS\\_15\\_19     & 2016\\_Census\\_Persons\\_Agriculture\\_environmental\\_and\\_related\\_studies\\_Age\\_15\\_19\\_years\\\\\n",
       "\t14883 & C16\\_P\\_Health\\_15\\_19       & 2016\\_Census\\_Persons\\_Health\\_Age\\_15\\_19\\_years                                       \\\\\n",
       "\t14893 & C16\\_P\\_Educ\\_15\\_19         & 2016\\_Census\\_Persons\\_Education\\_Age\\_15\\_19\\_years                                    \\\\\n",
       "\t14903 & C16\\_P\\_MngtCom\\_15\\_19      & 2016\\_Census\\_Persons\\_Management\\_and\\_commerce\\_Age\\_15\\_19\\_years                      \\\\\n",
       "\t14913 & C16\\_P\\_Soc\\_cult\\_15\\_19     & 2016\\_Census\\_Persons\\_Society\\_and\\_culture\\_Age\\_15\\_19\\_years                          \\\\\n",
       "\t14923 & C16\\_P\\_Creative\\_art\\_15\\_19 & 2016\\_Census\\_Persons\\_Creative\\_arts\\_Age\\_15\\_19\\_years                                \\\\\n",
       "\t14933 & C16\\_P\\_FoodHos\\_PS\\_15\\_19   & 2016\\_Census\\_Persons\\_Food\\_hospitality\\_and\\_personal\\_services\\_Age\\_15\\_19\\_years       \\\\\n",
       "\t14943 & C16\\_P\\_MixFld\\_pr\\_15\\_19    & 2016\\_Census\\_Persons\\_Mixed\\_field\\_programmes\\_Age\\_15\\_19\\_years                       \\\\\n",
       "\t14953 & C16\\_P\\_FldStu\\_ID\\_15\\_19    & 2016\\_Census\\_Persons\\_Field\\_of\\_study\\_inadequately\\_described\\_Age\\_15\\_19\\_years        \\\\\n",
       "\t14963 & C16\\_P\\_FldStu\\_NS\\_15\\_19    & 2016\\_Census\\_Persons\\_Field\\_of\\_study\\_not\\_stated\\_Age\\_15\\_19\\_years                    \\\\\n",
       "\t14973 & C16\\_P\\_Tot\\_15\\_19          & 2016\\_Census\\_Persons\\_Total\\_Age\\_15\\_19\\_years                                        \\\\\n",
       "\t14983 & C21\\_P\\_NatPhy\\_sci\\_15\\_19   & 2021\\_Census\\_Persons\\_Natural\\_and\\_physical\\_sciences\\_Age\\_15\\_19\\_years                \\\\\n",
       "\t14993 & C21\\_P\\_InfTec\\_15\\_19       & 2021\\_Census\\_Persons\\_Information\\_technology\\_Age\\_15\\_19\\_years                       \\\\\n",
       "\t15003 & C21\\_P\\_EngRT\\_15\\_19        & 2021\\_Census\\_Persons\\_Engineering\\_and\\_related\\_technologies\\_Age\\_15\\_19\\_years         \\\\\n",
       "\t15013 & C21\\_P\\_ArchBuild\\_15\\_19    & 2021\\_Census\\_Persons\\_Architecture\\_and\\_building\\_Age\\_15\\_19\\_years                    \\\\\n",
       "\t15023 & C21\\_P\\_AgEnv\\_RS\\_15\\_19     & 2021\\_Census\\_Persons\\_Agriculture\\_environmental\\_and\\_related\\_studies\\_Age\\_15\\_19\\_years\\\\\n",
       "\t15033 & C21\\_P\\_Health\\_15\\_19       & 2021\\_Census\\_Persons\\_Health\\_Age\\_15\\_19\\_years                                       \\\\\n",
       "\t15043 & C21\\_P\\_Educ\\_15\\_19         & 2021\\_Census\\_Persons\\_Education\\_Age\\_15\\_19\\_years                                    \\\\\n",
       "\t15053 & C21\\_P\\_MngtCom\\_15\\_19      & 2021\\_Census\\_Persons\\_Management\\_and\\_commerce\\_Age\\_15\\_19\\_years                      \\\\\n",
       "\t15063 & C21\\_P\\_Soc\\_cult\\_15\\_19     & 2021\\_Census\\_Persons\\_Society\\_and\\_culture\\_Age\\_15\\_19\\_years                          \\\\\n",
       "\t15073 & C21\\_P\\_Creative\\_art\\_15\\_19 & 2021\\_Census\\_Persons\\_Creative\\_arts\\_Age\\_15\\_19\\_years                                \\\\\n",
       "\t15083 & C21\\_P\\_FoodHos\\_PS\\_15\\_19   & 2021\\_Census\\_Persons\\_Food\\_hospitality\\_and\\_personal\\_services\\_Age\\_15\\_19\\_years       \\\\\n",
       "\t15093 & C21\\_P\\_MixFld\\_pr\\_15\\_19    & 2021\\_Census\\_Persons\\_Mixed\\_field\\_programmes\\_Age\\_15\\_19\\_years                       \\\\\n",
       "\t15103 & C21\\_P\\_FldStu\\_ID\\_15\\_19    & 2021\\_Census\\_Persons\\_Field\\_of\\_study\\_inadequately\\_described\\_Age\\_15\\_19\\_years        \\\\\n",
       "\t15113 & C21\\_P\\_FldStu\\_NS\\_15\\_19    & 2021\\_Census\\_Persons\\_Field\\_of\\_study\\_not\\_stated\\_Age\\_15\\_19\\_years                    \\\\\n",
       "\t15123 & C21\\_P\\_Tot\\_15\\_19          & 2021\\_Census\\_Persons\\_Total\\_Age\\_15\\_19\\_years                                        \\\\\n",
       "\\end{tabular}\n"
      ],
      "text/markdown": [
       "\n",
       "A data.frame: 234 × 2\n",
       "\n",
       "| <!--/--> | Cell.descriptors.information.Short &lt;chr&gt; | Cell.descriptors.information.Long &lt;chr&gt; |\n",
       "|---|---|---|\n",
       "| 12793 | C11_M_Post_Deg_15_19_yrs | 2011_Census_Males_Postgraduate_Degree_Level_Age_15_19_years                       |\n",
       "| 12803 | C11_M_GrDip_GrCe_15_19   | 2011_Census_Males_Graduate_Diploma_and_Graduate_Certificate_Level_Age_15_19_years |\n",
       "| 12813 | C11_M_BD_15_19           | 2011_Census_Males_Bachelor_Degree_Level_Age_15_19_years                           |\n",
       "| 12823 | C11_M_AdD_DL_15_19       | 2011_Census_Males_Advanced_Diploma_and_Diploma_Level_Age_15_19_years              |\n",
       "| 12833 | C11_M_CL_C_III_IV_15_19  | 2011_Census_Males_Certificate_Level_Certificate_III_and_IV_Level_Age_15_19_years  |\n",
       "| 12843 | C11_M_CL_C_I_II_15_19    | 2011_Census_Males_Certificate_Level_Certificate_I_and_II_Level_Age_15_19_years    |\n",
       "| 12853 | C11_M_CL_CL_nfd_15_19    | 2011_Census_Males_Certificate_Level_Certificate_Level_nfd_Age_15_19_years         |\n",
       "| 12863 | C11_M_CL_Tot_15_19       | 2011_Census_Males_Certificate_Level_Total_Age_15_19_years                         |\n",
       "| 12873 | C11_M_LE_ID_15_19        | 2011_Census_Males_Level_of_education_inadequately_described_Age_15_19_years       |\n",
       "| 12883 | C11_M_LE_NS_15_19        | 2011_Census_Males_Level_of_education_not_stated_Age_15_19_years                   |\n",
       "| 12893 | C11_M_Tot_15_19_yrs      | 2011_Census_Males_Total_Age_15_19_years                                           |\n",
       "| 12903 | C16_M_Post_Deg_15_19_yrs | 2016_Census_Males_Postgraduate_Degree_Level_Age_15_19_years                       |\n",
       "| 12913 | C16_M_GrDip_GrCe_15_19   | 2016_Census_Males_Graduate_Diploma_and_Graduate_Certificate_Level_Age_15_19_years |\n",
       "| 12923 | C16_M_BD_15_19           | 2016_Census_Males_Bachelor_Degree_Level_Age_15_19_years                           |\n",
       "| 12933 | C16_M_AdD_DL_15_19       | 2016_Census_Males_Advanced_Diploma_and_Diploma_Level_Age_15_19_years              |\n",
       "| 12943 | C16_M_CL_C_III_IV_15_19  | 2016_Census_Males_Certificate_Level_Certificate_III_and_IV_Level_Age_15_19_years  |\n",
       "| 12953 | C16_M_CL_C_I_II_15_19    | 2016_Census_Males_Certificate_Level_Certificate_I_and_II_Level_Age_15_19_years    |\n",
       "| 12963 | C16_M_CL_CL_nfd_15_19    | 2016_Census_Males_Certificate_Level_Certificate_Level_nfd_Age_15_19_years         |\n",
       "| 12973 | C16_M_CL_Tot_15_19       | 2016_Census_Males_Certificate_Level_Total_Age_15_19_years                         |\n",
       "| 12983 | C16_M_LE_ID_15_19        | 2016_Census_Males_Level_of_education_inadequately_described_Age_15_19_years       |\n",
       "| 12993 | C16_M_LE_NS_15_19        | 2016_Census_Males_Level_of_education_not_stated_Age_15_19_years                   |\n",
       "| 13003 | C16_M_Tot_15_19_yrs      | 2016_Census_Males_Total_Age_15_19_years                                           |\n",
       "| 13013 | C21_M_Post_Deg_15_19_yrs | 2021_Census_Males_Postgraduate_Degree_Level_Age_15_19_years                       |\n",
       "| 13023 | C21_M_GrDip_GrCe_15_19   | 2021_Census_Males_Graduate_Diploma_and_Graduate_Certificate_Level_Age_15_19_years |\n",
       "| 13033 | C21_M_BD_15_19           | 2021_Census_Males_Bachelor_Degree_Level_Age_15_19_years                           |\n",
       "| 13043 | C21_M_AdD_DL_15_19       | 2021_Census_Males_Advanced_Diploma_and_Diploma_Level_Age_15_19_years              |\n",
       "| 13053 | C21_M_CL_C_III_IV_15_19  | 2021_Census_Males_Certificate_Level_Certificate_III_and_IV_Level_Age_15_19_years  |\n",
       "| 13063 | C21_M_CL_C_I_II_15_19    | 2021_Census_Males_Certificate_Level_Certificate_I_and_II_Level_Age_15_19_years    |\n",
       "| 13073 | C21_M_CL_CL_nfd_15_19    | 2021_Census_Males_Certificate_Level_Certificate_Level_nfd_Age_15_19_years         |\n",
       "| 13083 | C21_M_CL_Tot_15_19       | 2021_Census_Males_Certificate_Level_Total_Age_15_19_years                         |\n",
       "| ⋮ | ⋮ | ⋮ |\n",
       "| 14833 | C16_P_NatPhy_sci_15_19   | 2016_Census_Persons_Natural_and_physical_sciences_Age_15_19_years                 |\n",
       "| 14843 | C16_P_InfTec_15_19       | 2016_Census_Persons_Information_technology_Age_15_19_years                        |\n",
       "| 14853 | C16_P_EngRT_15_19        | 2016_Census_Persons_Engineering_and_related_technologies_Age_15_19_years          |\n",
       "| 14863 | C16_P_ArchBuild_15_19    | 2016_Census_Persons_Architecture_and_building_Age_15_19_years                     |\n",
       "| 14873 | C16_P_AgEnv_RS_15_19     | 2016_Census_Persons_Agriculture_environmental_and_related_studies_Age_15_19_years |\n",
       "| 14883 | C16_P_Health_15_19       | 2016_Census_Persons_Health_Age_15_19_years                                        |\n",
       "| 14893 | C16_P_Educ_15_19         | 2016_Census_Persons_Education_Age_15_19_years                                     |\n",
       "| 14903 | C16_P_MngtCom_15_19      | 2016_Census_Persons_Management_and_commerce_Age_15_19_years                       |\n",
       "| 14913 | C16_P_Soc_cult_15_19     | 2016_Census_Persons_Society_and_culture_Age_15_19_years                           |\n",
       "| 14923 | C16_P_Creative_art_15_19 | 2016_Census_Persons_Creative_arts_Age_15_19_years                                 |\n",
       "| 14933 | C16_P_FoodHos_PS_15_19   | 2016_Census_Persons_Food_hospitality_and_personal_services_Age_15_19_years        |\n",
       "| 14943 | C16_P_MixFld_pr_15_19    | 2016_Census_Persons_Mixed_field_programmes_Age_15_19_years                        |\n",
       "| 14953 | C16_P_FldStu_ID_15_19    | 2016_Census_Persons_Field_of_study_inadequately_described_Age_15_19_years         |\n",
       "| 14963 | C16_P_FldStu_NS_15_19    | 2016_Census_Persons_Field_of_study_not_stated_Age_15_19_years                     |\n",
       "| 14973 | C16_P_Tot_15_19          | 2016_Census_Persons_Total_Age_15_19_years                                         |\n",
       "| 14983 | C21_P_NatPhy_sci_15_19   | 2021_Census_Persons_Natural_and_physical_sciences_Age_15_19_years                 |\n",
       "| 14993 | C21_P_InfTec_15_19       | 2021_Census_Persons_Information_technology_Age_15_19_years                        |\n",
       "| 15003 | C21_P_EngRT_15_19        | 2021_Census_Persons_Engineering_and_related_technologies_Age_15_19_years          |\n",
       "| 15013 | C21_P_ArchBuild_15_19    | 2021_Census_Persons_Architecture_and_building_Age_15_19_years                     |\n",
       "| 15023 | C21_P_AgEnv_RS_15_19     | 2021_Census_Persons_Agriculture_environmental_and_related_studies_Age_15_19_years |\n",
       "| 15033 | C21_P_Health_15_19       | 2021_Census_Persons_Health_Age_15_19_years                                        |\n",
       "| 15043 | C21_P_Educ_15_19         | 2021_Census_Persons_Education_Age_15_19_years                                     |\n",
       "| 15053 | C21_P_MngtCom_15_19      | 2021_Census_Persons_Management_and_commerce_Age_15_19_years                       |\n",
       "| 15063 | C21_P_Soc_cult_15_19     | 2021_Census_Persons_Society_and_culture_Age_15_19_years                           |\n",
       "| 15073 | C21_P_Creative_art_15_19 | 2021_Census_Persons_Creative_arts_Age_15_19_years                                 |\n",
       "| 15083 | C21_P_FoodHos_PS_15_19   | 2021_Census_Persons_Food_hospitality_and_personal_services_Age_15_19_years        |\n",
       "| 15093 | C21_P_MixFld_pr_15_19    | 2021_Census_Persons_Mixed_field_programmes_Age_15_19_years                        |\n",
       "| 15103 | C21_P_FldStu_ID_15_19    | 2021_Census_Persons_Field_of_study_inadequately_described_Age_15_19_years         |\n",
       "| 15113 | C21_P_FldStu_NS_15_19    | 2021_Census_Persons_Field_of_study_not_stated_Age_15_19_years                     |\n",
       "| 15123 | C21_P_Tot_15_19          | 2021_Census_Persons_Total_Age_15_19_years                                         |\n",
       "\n"
      ],
      "text/plain": [
       "      Cell.descriptors.information.Short\n",
       "12793 C11_M_Post_Deg_15_19_yrs          \n",
       "12803 C11_M_GrDip_GrCe_15_19            \n",
       "12813 C11_M_BD_15_19                    \n",
       "12823 C11_M_AdD_DL_15_19                \n",
       "12833 C11_M_CL_C_III_IV_15_19           \n",
       "12843 C11_M_CL_C_I_II_15_19             \n",
       "12853 C11_M_CL_CL_nfd_15_19             \n",
       "12863 C11_M_CL_Tot_15_19                \n",
       "12873 C11_M_LE_ID_15_19                 \n",
       "12883 C11_M_LE_NS_15_19                 \n",
       "12893 C11_M_Tot_15_19_yrs               \n",
       "12903 C16_M_Post_Deg_15_19_yrs          \n",
       "12913 C16_M_GrDip_GrCe_15_19            \n",
       "12923 C16_M_BD_15_19                    \n",
       "12933 C16_M_AdD_DL_15_19                \n",
       "12943 C16_M_CL_C_III_IV_15_19           \n",
       "12953 C16_M_CL_C_I_II_15_19             \n",
       "12963 C16_M_CL_CL_nfd_15_19             \n",
       "12973 C16_M_CL_Tot_15_19                \n",
       "12983 C16_M_LE_ID_15_19                 \n",
       "12993 C16_M_LE_NS_15_19                 \n",
       "13003 C16_M_Tot_15_19_yrs               \n",
       "13013 C21_M_Post_Deg_15_19_yrs          \n",
       "13023 C21_M_GrDip_GrCe_15_19            \n",
       "13033 C21_M_BD_15_19                    \n",
       "13043 C21_M_AdD_DL_15_19                \n",
       "13053 C21_M_CL_C_III_IV_15_19           \n",
       "13063 C21_M_CL_C_I_II_15_19             \n",
       "13073 C21_M_CL_CL_nfd_15_19             \n",
       "13083 C21_M_CL_Tot_15_19                \n",
       "⋮     ⋮                                 \n",
       "14833 C16_P_NatPhy_sci_15_19            \n",
       "14843 C16_P_InfTec_15_19                \n",
       "14853 C16_P_EngRT_15_19                 \n",
       "14863 C16_P_ArchBuild_15_19             \n",
       "14873 C16_P_AgEnv_RS_15_19              \n",
       "14883 C16_P_Health_15_19                \n",
       "14893 C16_P_Educ_15_19                  \n",
       "14903 C16_P_MngtCom_15_19               \n",
       "14913 C16_P_Soc_cult_15_19              \n",
       "14923 C16_P_Creative_art_15_19          \n",
       "14933 C16_P_FoodHos_PS_15_19            \n",
       "14943 C16_P_MixFld_pr_15_19             \n",
       "14953 C16_P_FldStu_ID_15_19             \n",
       "14963 C16_P_FldStu_NS_15_19             \n",
       "14973 C16_P_Tot_15_19                   \n",
       "14983 C21_P_NatPhy_sci_15_19            \n",
       "14993 C21_P_InfTec_15_19                \n",
       "15003 C21_P_EngRT_15_19                 \n",
       "15013 C21_P_ArchBuild_15_19             \n",
       "15023 C21_P_AgEnv_RS_15_19              \n",
       "15033 C21_P_Health_15_19                \n",
       "15043 C21_P_Educ_15_19                  \n",
       "15053 C21_P_MngtCom_15_19               \n",
       "15063 C21_P_Soc_cult_15_19              \n",
       "15073 C21_P_Creative_art_15_19          \n",
       "15083 C21_P_FoodHos_PS_15_19            \n",
       "15093 C21_P_MixFld_pr_15_19             \n",
       "15103 C21_P_FldStu_ID_15_19             \n",
       "15113 C21_P_FldStu_NS_15_19             \n",
       "15123 C21_P_Tot_15_19                   \n",
       "      Cell.descriptors.information.Long                                                \n",
       "12793 2011_Census_Males_Postgraduate_Degree_Level_Age_15_19_years                      \n",
       "12803 2011_Census_Males_Graduate_Diploma_and_Graduate_Certificate_Level_Age_15_19_years\n",
       "12813 2011_Census_Males_Bachelor_Degree_Level_Age_15_19_years                          \n",
       "12823 2011_Census_Males_Advanced_Diploma_and_Diploma_Level_Age_15_19_years             \n",
       "12833 2011_Census_Males_Certificate_Level_Certificate_III_and_IV_Level_Age_15_19_years \n",
       "12843 2011_Census_Males_Certificate_Level_Certificate_I_and_II_Level_Age_15_19_years   \n",
       "12853 2011_Census_Males_Certificate_Level_Certificate_Level_nfd_Age_15_19_years        \n",
       "12863 2011_Census_Males_Certificate_Level_Total_Age_15_19_years                        \n",
       "12873 2011_Census_Males_Level_of_education_inadequately_described_Age_15_19_years      \n",
       "12883 2011_Census_Males_Level_of_education_not_stated_Age_15_19_years                  \n",
       "12893 2011_Census_Males_Total_Age_15_19_years                                          \n",
       "12903 2016_Census_Males_Postgraduate_Degree_Level_Age_15_19_years                      \n",
       "12913 2016_Census_Males_Graduate_Diploma_and_Graduate_Certificate_Level_Age_15_19_years\n",
       "12923 2016_Census_Males_Bachelor_Degree_Level_Age_15_19_years                          \n",
       "12933 2016_Census_Males_Advanced_Diploma_and_Diploma_Level_Age_15_19_years             \n",
       "12943 2016_Census_Males_Certificate_Level_Certificate_III_and_IV_Level_Age_15_19_years \n",
       "12953 2016_Census_Males_Certificate_Level_Certificate_I_and_II_Level_Age_15_19_years   \n",
       "12963 2016_Census_Males_Certificate_Level_Certificate_Level_nfd_Age_15_19_years        \n",
       "12973 2016_Census_Males_Certificate_Level_Total_Age_15_19_years                        \n",
       "12983 2016_Census_Males_Level_of_education_inadequately_described_Age_15_19_years      \n",
       "12993 2016_Census_Males_Level_of_education_not_stated_Age_15_19_years                  \n",
       "13003 2016_Census_Males_Total_Age_15_19_years                                          \n",
       "13013 2021_Census_Males_Postgraduate_Degree_Level_Age_15_19_years                      \n",
       "13023 2021_Census_Males_Graduate_Diploma_and_Graduate_Certificate_Level_Age_15_19_years\n",
       "13033 2021_Census_Males_Bachelor_Degree_Level_Age_15_19_years                          \n",
       "13043 2021_Census_Males_Advanced_Diploma_and_Diploma_Level_Age_15_19_years             \n",
       "13053 2021_Census_Males_Certificate_Level_Certificate_III_and_IV_Level_Age_15_19_years \n",
       "13063 2021_Census_Males_Certificate_Level_Certificate_I_and_II_Level_Age_15_19_years   \n",
       "13073 2021_Census_Males_Certificate_Level_Certificate_Level_nfd_Age_15_19_years        \n",
       "13083 2021_Census_Males_Certificate_Level_Total_Age_15_19_years                        \n",
       "⋮     ⋮                                                                                \n",
       "14833 2016_Census_Persons_Natural_and_physical_sciences_Age_15_19_years                \n",
       "14843 2016_Census_Persons_Information_technology_Age_15_19_years                       \n",
       "14853 2016_Census_Persons_Engineering_and_related_technologies_Age_15_19_years         \n",
       "14863 2016_Census_Persons_Architecture_and_building_Age_15_19_years                    \n",
       "14873 2016_Census_Persons_Agriculture_environmental_and_related_studies_Age_15_19_years\n",
       "14883 2016_Census_Persons_Health_Age_15_19_years                                       \n",
       "14893 2016_Census_Persons_Education_Age_15_19_years                                    \n",
       "14903 2016_Census_Persons_Management_and_commerce_Age_15_19_years                      \n",
       "14913 2016_Census_Persons_Society_and_culture_Age_15_19_years                          \n",
       "14923 2016_Census_Persons_Creative_arts_Age_15_19_years                                \n",
       "14933 2016_Census_Persons_Food_hospitality_and_personal_services_Age_15_19_years       \n",
       "14943 2016_Census_Persons_Mixed_field_programmes_Age_15_19_years                       \n",
       "14953 2016_Census_Persons_Field_of_study_inadequately_described_Age_15_19_years        \n",
       "14963 2016_Census_Persons_Field_of_study_not_stated_Age_15_19_years                    \n",
       "14973 2016_Census_Persons_Total_Age_15_19_years                                        \n",
       "14983 2021_Census_Persons_Natural_and_physical_sciences_Age_15_19_years                \n",
       "14993 2021_Census_Persons_Information_technology_Age_15_19_years                       \n",
       "15003 2021_Census_Persons_Engineering_and_related_technologies_Age_15_19_years         \n",
       "15013 2021_Census_Persons_Architecture_and_building_Age_15_19_years                    \n",
       "15023 2021_Census_Persons_Agriculture_environmental_and_related_studies_Age_15_19_years\n",
       "15033 2021_Census_Persons_Health_Age_15_19_years                                       \n",
       "15043 2021_Census_Persons_Education_Age_15_19_years                                    \n",
       "15053 2021_Census_Persons_Management_and_commerce_Age_15_19_years                      \n",
       "15063 2021_Census_Persons_Society_and_culture_Age_15_19_years                          \n",
       "15073 2021_Census_Persons_Creative_arts_Age_15_19_years                                \n",
       "15083 2021_Census_Persons_Food_hospitality_and_personal_services_Age_15_19_years       \n",
       "15093 2021_Census_Persons_Mixed_field_programmes_Age_15_19_years                       \n",
       "15103 2021_Census_Persons_Field_of_study_inadequately_described_Age_15_19_years        \n",
       "15113 2021_Census_Persons_Field_of_study_not_stated_Age_15_19_years                    \n",
       "15123 2021_Census_Persons_Total_Age_15_19_years                                        "
      ]
     },
     "metadata": {},
     "output_type": "display_data"
    }
   ],
   "source": [
    "table_desc <- read.csv(file.path(meta_data, \"data_def_columns.csv\"))\n",
    "search_long(\"C21_P_Tot_15\", table_desc)\n",
    "search_short(\"Age 15\", table_desc)"
   ]
  }
 ],
 "metadata": {
  "kernelspec": {
   "display_name": "R",
   "language": "R",
   "name": "ir"
  },
  "language_info": {
   "codemirror_mode": "r",
   "file_extension": ".r",
   "mimetype": "text/x-r-source",
   "name": "R",
   "pygments_lexer": "r",
   "version": "4.4.1"
  }
 },
 "nbformat": 4,
 "nbformat_minor": 5
}
