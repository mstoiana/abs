{
 "cells": [
  {
   "cell_type": "markdown",
   "id": "f870e913-2cbb-46d1-95f6-58b66eba32de",
   "metadata": {},
   "source": [
    "### Data Analysis template"
   ]
  },
  {
   "cell_type": "markdown",
   "id": "5bf808a1-0576-4797-86d9-3650130235b1",
   "metadata": {},
   "source": [
    "#### Goal: Analyse time series data for number of people with a tertiary education in unisc adjacent areas\n",
    "\n",
    "Sunshine coast SA4 - 316\n",
    "MB North SA4 - 313\n",
    "MB South SA4 - 314\n",
    "Wide Bay SA4 - 319"
   ]
  },
  {
   "cell_type": "code",
   "execution_count": null,
   "id": "e634547f-906a-4683-819a-37713999175e",
   "metadata": {
    "vscode": {
     "languageId": "r"
    }
   },
   "outputs": [],
   "source": [
    "c_year <- \"2021\"\n",
    "c_pack <- \"TSP\"\n",
    "c_geo <- \"SA4\"\n",
    "c_area <- \"QLD\"\n",
    "\n",
    "directory <- paste(\"Census\", c_year, c_pack, c_geo, c_area, sep = \"_\")"
   ]
  },
  {
   "cell_type": "code",
   "execution_count": null,
   "id": "1ccbc540-22a0-495c-9cf9-b5bd196c9154",
   "metadata": {
    "vscode": {
     "languageId": "r"
    }
   },
   "outputs": [],
   "source": [
    "pkgLoad <- function( packages = \"required\" ) {\n",
    "\n",
    "    if( length( packages ) == 1L && packages == \"required\" ) {\n",
    "        packages <- c( \"readxl\", \"tidyverse\", \"openssl\", \"dplyr\", \"data.table\",\n",
    "                       \"here\", \"httr\",\"purrr\"\n",
    "        )\n",
    "    }\n",
    "\n",
    "    packagecheck <- match( packages, utils::installed.packages()[,1] )\n",
    "\n",
    "    packagestoinstall <- packages[ is.na( packagecheck ) ]\n",
    "\n",
    "    if( length( packagestoinstall ) > 0L ) {\n",
    "        utils::install.packages( packagestoinstall,\n",
    "                             repos = \"http://cran.csiro.au\"\n",
    "        )\n",
    "    } else {\n",
    "        print( \"All requested packages already installed\" )\n",
    "    }\n",
    "\n",
    "    for( package in packages ) {\n",
    "        suppressPackageStartupMessages(\n",
    "            library( package, character.only = TRUE, quietly = TRUE )\n",
    "        )\n",
    "    }\n",
    "}"
   ]
  },
  {
   "cell_type": "code",
   "execution_count": null,
   "id": "95d93d91-9193-41c4-b2c7-8f3bbb25caad",
   "metadata": {
    "vscode": {
     "languageId": "r"
    }
   },
   "outputs": [],
   "source": [
    "unzip_file <- function(zip_path, dest_path){\n",
    "  unzip(zip_path, exdir = dest_path)\n",
    "}"
   ]
  },
  {
   "cell_type": "code",
   "execution_count": null,
   "id": "7f4e01b3-7ea5-4b37-b559-da88eb6959db",
   "metadata": {
    "vscode": {
     "languageId": "r"
    }
   },
   "outputs": [],
   "source": [
    "download_file <- function(url, dest_path, extract_path, file_name){\n",
    "  # Ensure the destination directory exists\n",
    "  if (!dir.exists(dest_path)) {\n",
    "    dir.create(dest_path, recursive = TRUE)\n",
    "  }\n",
    "  \n",
    "  full_dest_path <- file.path(dest_path, file_name)\n",
    "  # Adjust extract_path to not append file_name directly\n",
    "  GET(url, write_disk(full_dest_path, overwrite = TRUE))\n",
    "  \n",
    "  if (grepl(\".zip$\", full_dest_path)){\n",
    "    unzip_file(full_dest_path, extract_path)\n",
    "    file.remove(full_dest_path)\n",
    "  }\n",
    "}"
   ]
  },
  {
   "cell_type": "code",
   "execution_count": null,
   "id": "5d11c9de-c8c9-4dae-b2b9-ce5afe130779",
   "metadata": {
    "vscode": {
     "languageId": "r"
    }
   },
   "outputs": [],
   "source": [
    "download_census_data <- function(c_year, c_pack, c_geo, c_area, dest_path, extract_path){\n",
    "  url <- paste0(\"https://www.abs.gov.au/census/find-census-data/datapacks/download/\", c_year, \"_\", c_pack, \"_\", c_geo, \"_for_\", c_area, \"_short-header.zip\")\n",
    "  file_name <- paste0(c_year, \"_\", c_pack, \"_\", c_geo, \"_for_\", c_area, \"_short-header.zip\")\n",
    "  download_file(url, dest_path, extract_path, file_name)\n",
    "  files <- list.files(extract_path, full.names = TRUE) # Get full paths\n",
    "  print(\"Success\")\n",
    "}"
   ]
  },
  {
   "cell_type": "code",
   "execution_count": null,
   "id": "26ea64cb-038b-4c65-8487-b7940c3200f2",
   "metadata": {
    "vscode": {
     "languageId": "r"
    }
   },
   "outputs": [],
   "source": [
    "#read from excel function\n",
    "url_from_excel <- function(excel_path, dest_path, extract_path){\n",
    "  urls_df <- read_excel(excel_path, skip = 1, col_names = c(\"url\", \"file_name\"))\n",
    "  for (i in 1:nrow(urls_df)) {\n",
    "    download_file(urls_df$url[i], dest_path, extract_path, urls_df$file_name[i])\n",
    "  }\n",
    "}"
   ]
  },
  {
   "cell_type": "code",
   "execution_count": null,
   "id": "6a1a40cf-cb24-453b-9413-6a38d7d9a096",
   "metadata": {
    "vscode": {
     "languageId": "r"
    }
   },
   "outputs": [],
   "source": [
    "retrieve_table <- function(search_value, table_index, datafiles) {\n",
    "    # Search for the index for the dynamic value\n",
    "    index <- grep(search_value, table_index$V1, fixed = TRUE, ignore.case = FALSE)\n",
    "    file_paths <- file.path(datafiles, table_index$V1[index])\n",
    "\n",
    "    # Read and combine all CSVs that match\n",
    "    combined_df <- map_dfr(file_paths, read.csv)\n",
    "    \n",
    "    \n",
    "    # Return the combined dataframe\n",
    "    return(combined_df)\n",
    "}"
   ]
  },
  {
   "cell_type": "code",
   "execution_count": null,
   "id": "9ce0a876-0248-4c48-b0c2-9150274a08a4",
   "metadata": {},
   "outputs": [],
   "source": [
    "search_long <- function(search_value, table_desc) {\n",
    "  # Search for the index for the dynamic value in the second column\n",
    "  index <- grep(search_value, table_desc[, 2], fixed = TRUE, ignore.case = FALSE)\n",
    "  # Return the 2nd and 3rd columns of matching rows\n",
    "  result <- table_desc[index, c(2, 3)]\n",
    "  return(result)\n",
    "}\n",
    "\n",
    "search_short <- function(search_value, table_desc) {\n",
    "  # Replace spaces with underscores in the search value\n",
    "  search_value <- gsub(\" \", \"_\", search_value)\n",
    "\n",
    "  # Search for the index for the dynamic value\n",
    "  index <- grep(search_value, table_desc[, 3], fixed = TRUE, ignore.case = FALSE)\n",
    "  \n",
    "  # Return the 2nd and 3rd columns of matching rows\n",
    "  result <- table_desc[index, c(2, 3)]\n",
    "  return(result)\n",
    "}"
   ]
  },
  {
   "cell_type": "code",
   "execution_count": null,
   "id": "0efc07c3-c39e-423f-92d0-03d01dd5d026",
   "metadata": {
    "vscode": {
     "languageId": "r"
    }
   },
   "outputs": [],
   "source": [
    "pkgLoad()"
   ]
  },
  {
   "cell_type": "code",
   "execution_count": null,
   "id": "aa0e516b-5254-43d7-b42b-d1ea074215bf",
   "metadata": {},
   "outputs": [],
   "source": [
    "base_path <- here(directory)\n",
    "dest_path <- here(directory, \"Download\")\n",
    "extract_path <- here(directory, \"Input\")\n",
    "output_path <- here(directory, \"Output\")\n",
    "if (!dir.exists(base_path)) {\n",
    "  dir.create(output_path, recursive = TRUE)\n",
    "}\n",
    "# Create directories if they do not exist\n",
    "paths <- list(dest_path, extract_path, output_path)\n",
    "lapply(paths, function(path) {\n",
    "  if (!dir.exists(path)) {\n",
    "    dir.create(path, recursive = TRUE)\n",
    "  }\n",
    "})\n",
    "download_census_data(c_year, c_pack, c_geo, c_area, dest_path, extract_path)\n",
    "extract_path <- here(directory, \"Input\", \"Metadata\")\n",
    "files <- list.files(extract_path, full.names = TRUE) # Get full paths\n",
    "geog_def_source <- files[grepl(\"geog\", files)]\n",
    "data_def_source <- files[grepl(\"DataPack\", files)]"
   ]
  },
  {
   "cell_type": "code",
   "execution_count": null,
   "id": "686f16f3-41bc-4591-b635-9cb3e6bfb428",
   "metadata": {
    "vscode": {
     "languageId": "r"
    }
   },
   "outputs": [],
   "source": [
    "#read each table in the excel file and create dataframe based on tablename\n",
    "read_excel_sheets <- function(file) {\n",
    "  tables <- excel_sheets(file)\n",
    "  dataframes <- list()\n",
    "  for (table in tables) {\n",
    "    dataframes[[table]] <- read_excel(file, sheet = table)\n",
    "  }\n",
    "  return(dataframes)\n",
    "}\n",
    "setColumns <- function(df) {\n",
    "  for (col in 1:ncol(df)) {\n",
    "    # Find the first non-NA value in the column\n",
    "    firstNonNAIndex <- which(!is.na(df[[col]]))[1]\n",
    "    \n",
    "    # Check if there is a non-NA value\n",
    "    if (!is.na(firstNonNAIndex)) {\n",
    "      # Set the column name to the first non-NA value\n",
    "      colnames(df)[col] <- as.character(df[firstNonNAIndex, col])\n",
    "    }\n",
    "  }\n",
    "  return(df)\n",
    "}\n",
    "\n",
    "geog_def <- read_excel_sheets(geog_def_source)\n",
    "data_def <- read_excel_sheets(data_def_source)\n",
    "\n",
    "split_data_frames <- function(df_list) {\n",
    "  split_dfs <- list()\n",
    "  \n",
    "  for (name in names(df_list)) {\n",
    "    df <- df_list[[name]]\n",
    "    print(paste(\"Processing data frame:\", name))\n",
    "    \n",
    "    # Ensure df is a data.table\n",
    "    setDT(df)\n",
    "    \n",
    "    # Split the data frame by the first column (assuming it's the category column)\n",
    "    split_list <- split(df, df[[1]])\n",
    "    \n",
    "    for (category_name in names(split_list)) {\n",
    "      cat_df <- split_list[[category_name]]\n",
    "      \n",
    "      # Check if this category already exists in split_dfs\n",
    "      if (category_name %in% names(split_dfs)) {\n",
    "        # If so, Combine existing and new data frames, then remove duplicates\n",
    "        combined_df <- rbind(split_dfs[[category_name]], cat_df)\n",
    "        # Ensure the combined data frame is unique\n",
    "        unique_combined_df <- unique(combined_df)\n",
    "        split_dfs[[category_name]] <- unique_combined_df\n",
    "      } else {\n",
    "        #if this is first occurence of category, add it to the list\n",
    "        split_dfs[[category_name]] <- cat_df\n",
    "      }\n",
    "    }\n",
    "  }\n",
    "  \n",
    "  return(split_dfs)\n",
    "}\n",
    "\n",
    "split_list_of_dfs <- split_data_frames(geog_def)\n",
    "\n",
    "#process data definitions \n",
    "data_def_process <- function(data_def) {\n",
    "  #process table 1\n",
    "  data_def[[1]] <- data_def[[1]][!is.na(data_def[[1]][,2]),]\n",
    "  data_def[[1]] <- setColumns(data_def[[1]])\n",
    "  data_def[[1]] <- data_def[[1]][-1,]\n",
    "  #process table 2\n",
    "  data_def[[2]] <- data_def[[2]][!is.na(data_def[[2]][,2]),]\n",
    "  data_def[[2]] <- setColumns(data_def[[2]])\n",
    "  data_def[[2]] <- data_def[[2]][-1,]\n",
    "  return(data_def)\n",
    "}\n",
    "data_def <- data_def_process(data_def)"
   ]
  },
  {
   "cell_type": "code",
   "execution_count": null,
   "id": "4d5de812-caf1-4305-827c-bcd5429b6ba0",
   "metadata": {},
   "outputs": [],
   "source": [
    "#export data def as two seperate csvs\n",
    "\n",
    "output_path <- here(directory, \"Output\", \"Index\") \n",
    "if (!dir.exists(output_path)) {\n",
    "  dir.create(output_path, recursive = TRUE)\n",
    "}\n",
    "\n",
    "write.csv(data_def[1], here(output_path, \"data_def_tables.csv\"), row.names = FALSE)\n",
    "write.csv(data_def[2], here(output_path, \"data_def_columns.csv\"), row.names = FALSE)\n",
    "meta_data <-  here(directory, \"Output\", \"Index\")\n",
    "output_path <- here(directory, \"Output\", \"ASGS\") \n",
    "if (!dir.exists(output_path)) {\n",
    "  dir.create(output_path, recursive = TRUE)\n",
    "}\n",
    "for (name in names(split_list_of_dfs)) {\n",
    "  df <- split_list_of_dfs[[name]]\n",
    "  output_path\n",
    "  write.csv(df, file.path(output_path, paste0(name, \".csv\")), row.names = FALSE)\n",
    "}\n",
    "#read each csv and create a column called AGSS_Key\n",
    "files <- list.files(output_path, pattern = \"\\\\.csv$\", full.names = TRUE)\n",
    "for (file in files) {\n",
    "  df <- fread(file)\n",
    "  df$AGSS_Key <- file\n",
    "  #add value to the AGSS_key which is the AGSS_Code_2021 \n",
    "  df$AGSS_Key <- openssl::md5(as.character(df$AGSS_Code_2021))\n",
    "  write.csv(df, file, row.names = FALSE)\n",
    "}"
   ]
  },
  {
   "cell_type": "code",
   "execution_count": null,
   "id": "83d2458a-5afc-4b40-8641-5d6c69e118b8",
   "metadata": {
    "vscode": {
     "languageId": "r"
    }
   },
   "outputs": [],
   "source": [
    "output_path\n",
    "dest_path <- here(directory, \"Input\")\n",
    "extract_path <- here(directory, \"Output\")"
   ]
  },
  {
   "cell_type": "code",
   "execution_count": null,
   "id": "cdb001c2-c2cb-4d21-9492-cb07d026c4e2",
   "metadata": {
    "vscode": {
     "languageId": "r"
    }
   },
   "outputs": [],
   "source": [
    "files <- list.files(dest_path, full.names = TRUE)\n",
    "print(files)"
   ]
  },
  {
   "cell_type": "code",
   "execution_count": null,
   "id": "ead27894-f9e7-4274-8caf-7bbc8c8d1eb1",
   "metadata": {
    "vscode": {
     "languageId": "r"
    }
   },
   "outputs": [],
   "source": [
    "dest_path\n",
    "extract_path"
   ]
  },
  {
   "cell_type": "code",
   "execution_count": null,
   "id": "ae304550-531b-4a29-860a-6197981ac135",
   "metadata": {
    "vscode": {
     "languageId": "r"
    }
   },
   "outputs": [],
   "source": [
    "datafiles <- files[1]"
   ]
  },
  {
   "cell_type": "code",
   "execution_count": null,
   "id": "0f8278a8-7ebb-4413-b3fa-1437f0e10876",
   "metadata": {
    "scrolled": true,
    "vscode": {
     "languageId": "r"
    }
   },
   "outputs": [],
   "source": [
    "table_index <- as.data.table((list.files(datafiles)))\n",
    "table_verbose <- read.csv(file.path(meta_data, \"data_def_tables.csv\"))"
   ]
  },
  {
   "cell_type": "code",
   "execution_count": null,
   "id": "1df164eb-c194-42b8-962d-317b6adc9549",
   "metadata": {
    "vscode": {
     "languageId": "r"
    }
   },
   "outputs": [],
   "source": [
    "table_verbose"
   ]
  },
  {
   "cell_type": "code",
   "execution_count": null,
   "id": "8f27a0e8-b49f-432a-b06c-a6274542fd2f",
   "metadata": {
    "vscode": {
     "languageId": "r"
    }
   },
   "outputs": [],
   "source": [
    "df <- retrieve_table(\"T31\",table_index, datafiles)"
   ]
  },
  {
   "cell_type": "code",
   "execution_count": null,
   "id": "594317e9-cdac-4b42-b4c5-1c3fb35554ed",
   "metadata": {
    "vscode": {
     "languageId": "r"
    }
   },
   "outputs": [],
   "source": [
    "head(df)"
   ]
  },
  {
   "cell_type": "code",
   "execution_count": null,
   "id": "5cba665c-360d-4fec-a6c2-80e88fc76a74",
   "metadata": {
    "vscode": {
     "languageId": "r"
    }
   },
   "outputs": [],
   "source": [
    "df <- df %>% filter(SA4_CODE_2021 %in% c(316, 313, 314, 319))\n",
    "head(df)"
   ]
  },
  {
   "cell_type": "code",
   "execution_count": null,
   "id": "1b8b6a7c-2cc5-4792-ab50-903e381a0dc7",
   "metadata": {
    "vscode": {
     "languageId": "r"
    }
   },
   "outputs": [],
   "source": [
    "table_desc <- read.csv(file.path(meta_data, \"data_def_columns.csv\"))\n",
    "search_long(\"C21_P_Tot_15_19\", table_desc)\n",
    "search_short(\"Age 15\", table_desc)"
   ]
  },
  {
   "cell_type": "code",
   "execution_count": null,
   "id": "271c4585-e5d9-4029-873e-ebb807a9ce3a",
   "metadata": {},
   "outputs": [],
   "source": []
  }
 ],
 "metadata": {
  "kernelspec": {
   "display_name": "R",
   "language": "R",
   "name": "ir"
  },
  "language_info": {
   "codemirror_mode": "r",
   "file_extension": ".r",
   "mimetype": "text/x-r-source",
   "name": "R",
   "pygments_lexer": "r",
   "version": "4.4.1"
  }
 },
 "nbformat": 4,
 "nbformat_minor": 5
}
