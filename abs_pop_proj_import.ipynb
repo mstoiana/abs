{
 "cells": [
  {
   "cell_type": "markdown",
   "id": "edaadfae-89e1-4eb1-9a85-826606e4849a",
   "metadata": {},
   "source": [
    "### This script will import ABS population projections for Queensland and then export them into a seperate CSV for area and one combined CSV.\n",
    "#### Install packages"
   ]
  },
  {
   "cell_type": "code",
   "execution_count": 1,
   "id": "34b83909-ec76-4ad8-ace4-6ae2e00d966b",
   "metadata": {},
   "outputs": [
    {
     "name": "stderr",
     "output_type": "stream",
     "text": [
      "Installing package into 'C:/Users/joshu/AppData/Local/R/win-library/4.4'\n",
      "(as 'lib' is unspecified)\n",
      "\n"
     ]
    },
    {
     "name": "stdout",
     "output_type": "stream",
     "text": [
      "package 'httr' successfully unpacked and MD5 sums checked\n",
      "\n",
      "The downloaded binary packages are in\n",
      "\tC:\\Users\\joshu\\AppData\\Local\\Temp\\RtmpeEptjq\\downloaded_packages\n"
     ]
    },
    {
     "name": "stderr",
     "output_type": "stream",
     "text": [
      "Installing package into 'C:/Users/joshu/AppData/Local/R/win-library/4.4'\n",
      "(as 'lib' is unspecified)\n",
      "\n"
     ]
    },
    {
     "name": "stdout",
     "output_type": "stream",
     "text": [
      "package 'readxl' successfully unpacked and MD5 sums checked\n"
     ]
    },
    {
     "name": "stderr",
     "output_type": "stream",
     "text": [
      "Warning message:\n",
      "\"cannot remove prior installation of package 'readxl'\"\n",
      "Warning message in file.copy(savedcopy, lib, recursive = TRUE):\n",
      "\"problem copying C:\\Users\\joshu\\AppData\\Local\\R\\win-library\\4.4\\00LOCK\\readxl\\libs\\x64\\readxl.dll to C:\\Users\\joshu\\AppData\\Local\\R\\win-library\\4.4\\readxl\\libs\\x64\\readxl.dll: Permission denied\"\n",
      "Warning message:\n",
      "\"restored 'readxl'\"\n"
     ]
    },
    {
     "name": "stdout",
     "output_type": "stream",
     "text": [
      "\n",
      "The downloaded binary packages are in\n",
      "\tC:\\Users\\joshu\\AppData\\Local\\Temp\\RtmpeEptjq\\downloaded_packages\n"
     ]
    },
    {
     "name": "stderr",
     "output_type": "stream",
     "text": [
      "Installing package into 'C:/Users/joshu/AppData/Local/R/win-library/4.4'\n",
      "(as 'lib' is unspecified)\n",
      "\n"
     ]
    },
    {
     "name": "stdout",
     "output_type": "stream",
     "text": [
      "package 'here' successfully unpacked and MD5 sums checked\n",
      "\n",
      "The downloaded binary packages are in\n",
      "\tC:\\Users\\joshu\\AppData\\Local\\Temp\\RtmpeEptjq\\downloaded_packages\n"
     ]
    },
    {
     "name": "stderr",
     "output_type": "stream",
     "text": [
      "Installing package into 'C:/Users/joshu/AppData/Local/R/win-library/4.4'\n",
      "(as 'lib' is unspecified)\n",
      "\n"
     ]
    },
    {
     "name": "stdout",
     "output_type": "stream",
     "text": [
      "package 'dplyr' successfully unpacked and MD5 sums checked\n"
     ]
    },
    {
     "name": "stderr",
     "output_type": "stream",
     "text": [
      "Warning message:\n",
      "\"cannot remove prior installation of package 'dplyr'\"\n",
      "Warning message in file.copy(savedcopy, lib, recursive = TRUE):\n",
      "\"problem copying C:\\Users\\joshu\\AppData\\Local\\R\\win-library\\4.4\\00LOCK\\dplyr\\libs\\x64\\dplyr.dll to C:\\Users\\joshu\\AppData\\Local\\R\\win-library\\4.4\\dplyr\\libs\\x64\\dplyr.dll: Permission denied\"\n",
      "Warning message:\n",
      "\"restored 'dplyr'\"\n"
     ]
    },
    {
     "name": "stdout",
     "output_type": "stream",
     "text": [
      "\n",
      "The downloaded binary packages are in\n",
      "\tC:\\Users\\joshu\\AppData\\Local\\Temp\\RtmpeEptjq\\downloaded_packages\n"
     ]
    },
    {
     "name": "stderr",
     "output_type": "stream",
     "text": [
      "Installing package into 'C:/Users/joshu/AppData/Local/R/win-library/4.4'\n",
      "(as 'lib' is unspecified)\n",
      "\n"
     ]
    },
    {
     "name": "stdout",
     "output_type": "stream",
     "text": [
      "package 'openssl' successfully unpacked and MD5 sums checked\n"
     ]
    },
    {
     "name": "stderr",
     "output_type": "stream",
     "text": [
      "Warning message:\n",
      "\"cannot remove prior installation of package 'openssl'\"\n",
      "Warning message in file.copy(savedcopy, lib, recursive = TRUE):\n",
      "\"problem copying C:\\Users\\joshu\\AppData\\Local\\R\\win-library\\4.4\\00LOCK\\openssl\\libs\\x64\\openssl.dll to C:\\Users\\joshu\\AppData\\Local\\R\\win-library\\4.4\\openssl\\libs\\x64\\openssl.dll: Permission denied\"\n",
      "Warning message:\n",
      "\"restored 'openssl'\"\n"
     ]
    },
    {
     "name": "stdout",
     "output_type": "stream",
     "text": [
      "\n",
      "The downloaded binary packages are in\n",
      "\tC:\\Users\\joshu\\AppData\\Local\\Temp\\RtmpeEptjq\\downloaded_packages\n"
     ]
    },
    {
     "name": "stderr",
     "output_type": "stream",
     "text": [
      "Installing package into 'C:/Users/joshu/AppData/Local/R/win-library/4.4'\n",
      "(as 'lib' is unspecified)\n",
      "\n"
     ]
    },
    {
     "name": "stdout",
     "output_type": "stream",
     "text": [
      "package 'tidyverse' successfully unpacked and MD5 sums checked\n",
      "\n",
      "The downloaded binary packages are in\n",
      "\tC:\\Users\\joshu\\AppData\\Local\\Temp\\RtmpeEptjq\\downloaded_packages\n"
     ]
    }
   ],
   "source": [
    "install.packages(\"httr\")\n",
    "install.packages(\"readxl\")\n",
    "install.packages(\"here\")\n",
    "install.packages(\"dplyr\")\n",
    "install.packages(\"openssl\")\n",
    "install.packages(\"tidyverse\")"
   ]
  },
  {
   "cell_type": "code",
   "execution_count": 2,
   "id": "2dccc14d-220c-4aab-8cd8-bf2881b9b309",
   "metadata": {},
   "outputs": [
    {
     "name": "stderr",
     "output_type": "stream",
     "text": [
      "here() starts at C:/Users/joshu\n",
      "\n",
      "\n",
      "Attaching package: 'dplyr'\n",
      "\n",
      "\n",
      "The following objects are masked from 'package:stats':\n",
      "\n",
      "    filter, lag\n",
      "\n",
      "\n",
      "The following objects are masked from 'package:base':\n",
      "\n",
      "    intersect, setdiff, setequal, union\n",
      "\n",
      "\n",
      "Linking to: OpenSSL 3.3.0 9 Apr 2024\n",
      "\n",
      "── \u001b[1mAttaching core tidyverse packages\u001b[22m ──────────────────────── tidyverse 2.0.0 ──\n",
      "\u001b[32m✔\u001b[39m \u001b[34mforcats  \u001b[39m 1.0.0     \u001b[32m✔\u001b[39m \u001b[34mreadr    \u001b[39m 2.1.5\n",
      "\u001b[32m✔\u001b[39m \u001b[34mggplot2  \u001b[39m 3.5.1     \u001b[32m✔\u001b[39m \u001b[34mstringr  \u001b[39m 1.5.1\n",
      "\u001b[32m✔\u001b[39m \u001b[34mlubridate\u001b[39m 1.9.3     \u001b[32m✔\u001b[39m \u001b[34mtibble   \u001b[39m 3.2.1\n",
      "\u001b[32m✔\u001b[39m \u001b[34mpurrr    \u001b[39m 1.0.2     \u001b[32m✔\u001b[39m \u001b[34mtidyr    \u001b[39m 1.3.1\n",
      "── \u001b[1mConflicts\u001b[22m ────────────────────────────────────────── tidyverse_conflicts() ──\n",
      "\u001b[31m✖\u001b[39m \u001b[34mdplyr\u001b[39m::\u001b[32mfilter()\u001b[39m masks \u001b[34mstats\u001b[39m::filter()\n",
      "\u001b[31m✖\u001b[39m \u001b[34mdplyr\u001b[39m::\u001b[32mlag()\u001b[39m    masks \u001b[34mstats\u001b[39m::lag()\n",
      "\u001b[36mℹ\u001b[39m Use the conflicted package (\u001b[3m\u001b[34m<http://conflicted.r-lib.org/>\u001b[39m\u001b[23m) to force all conflicts to become errors\n"
     ]
    }
   ],
   "source": [
    "library(httr)\n",
    "library(readxl)\n",
    "library(here)\n",
    "library(dplyr)\n",
    "library(openssl)\n",
    "library(tidyverse)"
   ]
  },
  {
   "cell_type": "markdown",
   "id": "9ce848b2-29ea-435c-bb4c-f1af7447959a",
   "metadata": {},
   "source": [
    "### Functions to download and extract file\n",
    "### unzip_file\n",
    "#### params\n",
    "* zip_path - Path of the zipfile that will be processed\n",
    "* dest_path - Path where processed file will go\n",
    "### download_file\n",
    "#### params\n",
    "* url - String variable URL of file you wish to download\n",
    "* dest_path - Destination of downloaded file\n",
    "* extract_path - If zipped where the file will be extracted to\n",
    "* file_name - What the saved file will be called"
   ]
  },
  {
   "cell_type": "code",
   "execution_count": 3,
   "id": "17eb1ff6-25bc-4fb9-bc7c-28ae81100f81",
   "metadata": {},
   "outputs": [],
   "source": [
    "unzip_file <- function(zip_path, dest_path){\n",
    "  unzip(zip_path, exdir = dest_path)\n",
    "}\n",
    "\n",
    "download_file <- function(url, dest_path, extract_path, file_name){\n",
    "  # Ensure the destination directory exists\n",
    "  if (!dir.exists(dest_path)) {\n",
    "    dir.create(dest_path, recursive = TRUE)\n",
    "  }\n",
    "  \n",
    "  full_dest_path <- file.path(dest_path, file_name)\n",
    "  # Adjust extract_path to not append file_name directly\n",
    "  GET(url, write_disk(full_dest_path, overwrite = TRUE))\n",
    "  \n",
    "  if (grepl(\".zip$\", full_dest_path)){\n",
    "    unzip_file(full_dest_path, extract_path)\n",
    "    file.remove(full_dest_path)\n",
    "  }\n",
    "}"
   ]
  },
  {
   "cell_type": "code",
   "execution_count": 4,
   "id": "1ac27b9c-00ba-459f-a250-f976b2263510",
   "metadata": {},
   "outputs": [
    {
     "name": "stderr",
     "output_type": "stream",
     "text": [
      "\u001b[1mRows: \u001b[22m\u001b[34m32400\u001b[39m \u001b[1mColumns: \u001b[22m\u001b[34m14\u001b[39m\n",
      "\u001b[36m──\u001b[39m \u001b[1mColumn specification\u001b[22m \u001b[36m────────────────────────────────────────────────────────\u001b[39m\n",
      "\u001b[1mDelimiter:\u001b[22m \",\"\n",
      "\u001b[31mchr\u001b[39m (4): DATAFLOW, AGE, FREQUENCY, UNIT_MEASURE\n",
      "\u001b[32mdbl\u001b[39m (8): REGION, SEX_ABS, FERTILITY, MORTALITY, NOM, NIM, TIME_PERIOD, OBS_V...\n",
      "\u001b[33mlgl\u001b[39m (2): OBS_STATUS, OBS_COMMENT\n",
      "\n",
      "\u001b[36mℹ\u001b[39m Use `spec()` to retrieve the full column specification for this data.\n",
      "\u001b[36mℹ\u001b[39m Specify the column types or set `show_col_types = FALSE` to quiet this message.\n"
     ]
    }
   ],
   "source": [
    "url <- \"https://api.data.abs.gov.au/data/ABS,POP_PROJ_REGION,1.0.0/32+31+3.2+1+3.TT.....A?startPeriod=2022&format=csv\"\n",
    "download_file(url, here(\"data\"), here(\"data\"), \"ABS_PROJ_REGION_QLD.csv\")\n",
    "#import as dataframe\n",
    "\n",
    "data <- read_csv(here(\"data\", \"ABS_PROJ_REGION_QLD.csv\"))\n",
    "data_df <- as.data.frame(data)"
   ]
  },
  {
   "cell_type": "markdown",
   "id": "0cadd7e9-ab9a-4ba6-b35c-6a9c5d198b27",
   "metadata": {},
   "source": [
    "#### Select relevant columns and add metadata before creating regional dataframes"
   ]
  },
  {
   "cell_type": "code",
   "execution_count": 8,
   "id": "7d15a4c4-6c05-48f2-a67a-52a1f5d6e006",
   "metadata": {},
   "outputs": [
    {
     "data": {
      "text/html": [
       "<style>\n",
       ".list-inline {list-style: none; margin:0; padding: 0}\n",
       ".list-inline>li {display: inline-block}\n",
       ".list-inline>li:not(:last-child)::after {content: \"\\00b7\"; padding: 0 .5ex}\n",
       "</style>\n",
       "<ol class=list-inline><li>'REGION'</li><li>'FERTILITY'</li><li>'SEX_ABS'</li><li>'MORTALITY'</li><li>'NOM'</li><li>'NIM'</li><li>'TIME_PERIOD'</li><li>'OBS_VALUE'</li><li>'GROWTH_KEY'</li><li>'DATE_RETRIEVED'</li></ol>\n"
      ],
      "text/latex": [
       "\\begin{enumerate*}\n",
       "\\item 'REGION'\n",
       "\\item 'FERTILITY'\n",
       "\\item 'SEX\\_ABS'\n",
       "\\item 'MORTALITY'\n",
       "\\item 'NOM'\n",
       "\\item 'NIM'\n",
       "\\item 'TIME\\_PERIOD'\n",
       "\\item 'OBS\\_VALUE'\n",
       "\\item 'GROWTH\\_KEY'\n",
       "\\item 'DATE\\_RETRIEVED'\n",
       "\\end{enumerate*}\n"
      ],
      "text/markdown": [
       "1. 'REGION'\n",
       "2. 'FERTILITY'\n",
       "3. 'SEX_ABS'\n",
       "4. 'MORTALITY'\n",
       "5. 'NOM'\n",
       "6. 'NIM'\n",
       "7. 'TIME_PERIOD'\n",
       "8. 'OBS_VALUE'\n",
       "9. 'GROWTH_KEY'\n",
       "10. 'DATE_RETRIEVED'\n",
       "\n",
       "\n"
      ],
      "text/plain": [
       " [1] \"REGION\"         \"FERTILITY\"      \"SEX_ABS\"        \"MORTALITY\"     \n",
       " [5] \"NOM\"            \"NIM\"            \"TIME_PERIOD\"    \"OBS_VALUE\"     \n",
       " [9] \"GROWTH_KEY\"     \"DATE_RETRIEVED\""
      ]
     },
     "metadata": {},
     "output_type": "display_data"
    },
    {
     "name": "stderr",
     "output_type": "stream",
     "text": [
      "Warning message in with_tz.default(Sys.time(), tzone):\n",
      "\"Unrecognized time zone ''\"\n"
     ]
    }
   ],
   "source": [
    "colnames(data_df)\n",
    "data_df <- data_df %>% select(REGION, FERTILITY, SEX_ABS, MORTALITY, NOM, NIM, TIME_PERIOD, OBS_VALUE)\n",
    "#split the data by region, region 32 is brisbane, region 3 is rest of qld and remove the REGION column\n",
    "#create a primary key column using ssh for the data using the OBS_VALUE column\n",
    "data_df$GROWTH_KEY <- md5(as.character(data_df$OBS_VALUE))\n",
    "data_df$DATE_RETRIEVED <- today()\n",
    "#filter y region\n",
    "qld_df <- data_df %>% filter(REGION == 3) %>% select(-REGION)\n",
    "brisbane_df <- data_df %>% filter(REGION == 32) %>% select(-REGION)\n",
    "rest_of_qld_df <- data_df %>% filter(REGION == 31) %>% select(-REGION)"
   ]
  },
  {
   "cell_type": "markdown",
   "id": "0d1a6cec-bf8e-478c-8220-eaa3035f4591",
   "metadata": {},
   "source": [
    "#### Write to CSVs"
   ]
  },
  {
   "cell_type": "code",
   "execution_count": null,
   "id": "22860c36-b15a-4bb1-9c8d-d1d16c2753c6",
   "metadata": {},
   "outputs": [],
   "source": [
    "write.csv(data_df, \"abs_pop_proj_data_all.csv\")\n",
    "write.csv(qld_df, \"abs_pop_proj_data_qld.csv\")\n",
    "write.csv(brisbane_df, \"abs_pop_proj_data_brisbane.csv\")\n",
    "write.csv(rest_of_qld_df, \"abs_pop_proj_data_rest_of_qld_df.csv\")"
   ]
  },
  {
   "cell_type": "markdown",
   "id": "bab02d81-f6d5-4534-a5d7-c3b10390b00f",
   "metadata": {},
   "source": [
    "### Classifications\n",
    "#### Region\n",
    "- 3 - QLD\n",
    "- 31 - Rest of QLD\n",
    "- 32 - Brisbane\n",
    "#### Fertility\n",
    "\n",
    "<ol>\n",
    "<li>High fertility</li>\n",
    "<li>Medium fertility</li>\n",
    "<li>Low fertility</li>\n",
    "</ol>\n",
    "\n",
    "#### Sex\n",
    "<ol>\n",
    "<li>Males</li>\n",
    "<li>Females</li>\n",
    "<li>Persons</li>\n",
    "</ol>\n",
    "\n",
    "#### Mortality\n",
    "<ol>\n",
    "<li>High life expectancy</li>\n",
    "<li>Medium life expectancy</li>\n",
    "</ol>\n",
    "\n",
    "#### NOM Net Overseas Migration\n",
    "<ol>\n",
    "<li>High NOM</li>\n",
    "<li>Medium NOM</li>\n",
    "<li>Low NOM</li>\n",
    "<li>Zero NOM</li>\n",
    "</ol>\n",
    "\n",
    "#### NIM Net Interstate Migration\n",
    "<ol>\n",
    "<li>Large interstate flows</li>\n",
    "<li>Medium interstate flows</li>\n",
    "<li>Small interstate flows</li>\n",
    "</ol>\n",
    "\n",
    "#### Time Period\n",
    "TIME_PERIOD - Prediction year\n",
    "#### OBS_VALUE\n",
    "OBS_VALUE - Predicted population"
   ]
  },
  {
   "cell_type": "code",
   "execution_count": null,
   "id": "e10ba31a-5618-4379-9b98-f6cf5eb1a555",
   "metadata": {},
   "outputs": [],
   "source": []
  }
 ],
 "metadata": {
  "kernelspec": {
   "display_name": "R",
   "language": "R",
   "name": "ir"
  },
  "language_info": {
   "codemirror_mode": "r",
   "file_extension": ".r",
   "mimetype": "text/x-r-source",
   "name": "R",
   "pygments_lexer": "r",
   "version": "4.4.1"
  }
 },
 "nbformat": 4,
 "nbformat_minor": 5
}
